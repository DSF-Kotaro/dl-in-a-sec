{
 "cells": [
  {
   "cell_type": "markdown",
   "metadata": {
    "colab_type": "text",
    "id": "T-VbMTT2zg-D"
   },
   "source": [
    "##### Copyright 2018 The TensorFlow Hub Authors.\n",
    "\n",
    "##### Modifications Copyright 2019 Tomoaki Masuda.\n",
    "\n",
    "Licensed under the Apache License, Version 2.0 (the \"License\");"
   ]
  },
  {
   "cell_type": "code",
   "execution_count": null,
   "metadata": {
    "colab": {},
    "colab_type": "code",
    "id": "WJ9cXpn4zg-G"
   },
   "outputs": [],
   "source": [
    "# Copyright 2018 The TensorFlow Hub Authors. All Rights Reserved.\n",
    "#\n",
    "# Licensed under the Apache License, Version 2.0 (the \"License\");\n",
    "# you may not use this file except in compliance with the License.\n",
    "# You may obtain a copy of the License at\n",
    "#\n",
    "#     http://www.apache.org/licenses/LICENSE-2.0\n",
    "#\n",
    "# Unless required by applicable law or agreed to in writing, software\n",
    "# distributed under the License is distributed on an \"AS IS\" BASIS,\n",
    "# WITHOUT WARRANTIES OR CONDITIONS OF ANY KIND, either express or implied.\n",
    "# See the License for the specific language governing permissions and\n",
    "# limitations under the License.\n",
    "# =============================================================================="
   ]
  },
  {
   "cell_type": "markdown",
   "metadata": {},
   "source": [
    "このノートブックは、以下のノートブックを元に日本語訳、一部章立ての再構成、加筆を行いました。 \n",
    "https://github.com/tensorflow/hub/blob/master/docs/tutorials/text_classification_with_tf_hub.ipynb"
   ]
  },
  {
   "cell_type": "markdown",
   "metadata": {
    "colab_type": "text",
    "id": "oIudJcQmzg-J"
   },
   "source": [
    "\n",
    "#  TF-Hubでシンプルなテキスト分類器を作る方法\n"
   ]
  },
  {
   "cell_type": "markdown",
   "metadata": {
    "colab_type": "text",
    "id": "GkQgskP2zg-K"
   },
   "source": [
    "\n",
    " TF-Hubは、再利用可能なリソース、特に事前学習済みの**モジュール**としてパッケージされた機械学習の専門知識を共有するためのプラットフォームです。このチュートリアルは、大きく分けて2つのパートから成ります。 \n",
    "\n",
    " **はじめに： TF-Hubを使ってテキスト分類器を学習する** \n",
    "\n",
    " TF-Hubのテキストembeddingモジュールを使い、それなりのベースライン精度をもつ、シンプルな感情分類を学習します。次に予測を分析、モデルの妥当性を確認、精度改善の方法を考察します。 \n",
    "\n",
    " **発展：転移学習の分析** \n",
    "\n",
    "このセクションでは、さまざまなTF-Hubモジュールを使い、それらが推定精度に与える影響を比較、転移学習の利点と落とし穴を示します。 \n"
   ]
  },
  {
   "cell_type": "markdown",
   "metadata": {
    "colab_type": "text",
    "id": "xNgVpPR5zg-L"
   },
   "source": [
    "\n",
    "## あると望ましい事前知識\n",
    "\n",
    "必須ではないが、以下の事前知識があると、ノートブックの内容が理解しやすいです。\n",
    "\n",
    "-  Tensorflowの[プリセット推論器フレームワーク](https://www.tensorflow.org/get_started/premade_estimators)の基本理解\n",
    "-  [Pandas](https://pandas.pydata.org/)ライブラリの理解\n"
   ]
  },
  {
   "cell_type": "markdown",
   "metadata": {
    "colab_type": "text",
    "id": "0TgEsGvezg-M"
   },
   "source": [
    "\n",
    "## A. 環境を準備する\n",
    "\n",
    "必要なライブラリのインストール、インポートを行います。\n"
   ]
  },
  {
   "cell_type": "code",
   "execution_count": null,
   "metadata": {
    "colab": {},
    "colab_type": "code",
    "id": "_oOjaz2Xzg-O"
   },
   "outputs": [],
   "source": [
    "#added on 2020/6/20\n",
    "%tensorflow_version 1.x\n",
    "\n",
    "# Install the latest Tensorflow version.\n",
    "!pip install --quiet \"tensorflow>=1.7\"\n",
    "# Install TF-Hub.\n",
    "!pip install tensorflow-hub\n",
    "!pip install seaborn"
   ]
  },
  {
   "cell_type": "markdown",
   "metadata": {
    "colab_type": "text",
    "id": "Mu8unwNdzg-Q"
   },
   "source": [
    "\n",
    " TensorFlowのインストールについて、詳しい情報は [https://www.tensorflow.org/install/](https://www.tensorflow.org/install/) にあります。 \n"
   ]
  },
  {
   "cell_type": "code",
   "execution_count": null,
   "metadata": {
    "colab": {},
    "colab_type": "code",
    "id": "8FHAE_-Kzg-Q"
   },
   "outputs": [],
   "source": [
    "import tensorflow as tf\n",
    "import tensorflow_hub as hub\n",
    "import matplotlib.pyplot as plt\n",
    "import numpy as np\n",
    "import os\n",
    "import pandas as pd\n",
    "import re\n",
    "import seaborn as sns"
   ]
  },
  {
   "cell_type": "markdown",
   "metadata": {},
   "source": [
    "# その1 - 入門編"
   ]
  },
  {
   "cell_type": "markdown",
   "metadata": {
    "colab_type": "text",
    "id": "pzdGQlOezg-U",
    "toc-hr-collapsed": false
   },
   "source": [
    "\n",
    "\n",
    "## B. データセットを準備する\n",
    "\n",
    " Mass氏ほかの[Large Movie Review Dataset v1.0](http://ai.stanford.edu/~amaas/data/sentiment/)タスクに挑戦します。データセットは、1から10までのポジティブ度でラベル付けされたIMDB映画レビューです。タスクは、レビュー文から**ネガティブ評価**か**ポジティブ評価**を予測し、ラベル付けすることです。 \n"
   ]
  },
  {
   "cell_type": "code",
   "execution_count": null,
   "metadata": {
    "colab": {},
    "colab_type": "code",
    "id": "IWUQdB2Izg-V"
   },
   "outputs": [],
   "source": [
    "# Load all files from a directory in a DataFrame.\n",
    "def load_directory_data(directory):\n",
    "  data = {}\n",
    "  data[\"sentence\"] = []\n",
    "  data[\"sentiment\"] = []\n",
    "  for file_path in os.listdir(directory):\n",
    "    with tf.gfile.GFile(os.path.join(directory, file_path), \"r\") as f:\n",
    "      data[\"sentence\"].append(f.read())\n",
    "      data[\"sentiment\"].append(re.match(\"\\d+_(\\d+)\\.txt\", file_path).group(1))\n",
    "  return pd.DataFrame.from_dict(data)\n",
    "\n",
    "# Merge positive and negative examples, add a polarity column and shuffle.\n",
    "def load_dataset(directory):\n",
    "  pos_df = load_directory_data(os.path.join(directory, \"pos\"))\n",
    "  neg_df = load_directory_data(os.path.join(directory, \"neg\"))\n",
    "  pos_df[\"polarity\"] = 1\n",
    "  neg_df[\"polarity\"] = 0\n",
    "  return pd.concat([pos_df, neg_df]).sample(frac=1).reset_index(drop=True)\n",
    "\n",
    "# Download and process the dataset files.\n",
    "def download_and_load_datasets(force_download=False):\n",
    "  dataset = tf.keras.utils.get_file(\n",
    "      fname=\"aclImdb.tar.gz\", \n",
    "      origin=\"http://ai.stanford.edu/~amaas/data/sentiment/aclImdb_v1.tar.gz\", \n",
    "      extract=True)\n",
    "  \n",
    "  train_df = load_dataset(os.path.join(os.path.dirname(dataset), \n",
    "                                       \"aclImdb\", \"train\"))\n",
    "  test_df = load_dataset(os.path.join(os.path.dirname(dataset), \n",
    "                                      \"aclImdb\", \"test\"))\n",
    "  \n",
    "  return train_df, test_df\n",
    "\n",
    "# Reduce logging output.\n",
    "tf.logging.set_verbosity(tf.logging.ERROR)\n",
    "\n",
    "train_df, test_df = download_and_load_datasets()\n",
    "train_df.head()"
   ]
  },
  {
   "cell_type": "markdown",
   "metadata": {},
   "source": [
    "\n",
    "## C. データセットを前処理する\n",
    "\n",
    "整形されたデータセットのため、前処理は不要です。\n"
   ]
  },
  {
   "cell_type": "markdown",
   "metadata": {},
   "source": [
    "\n",
    "## D. モデルを作成する"
   ]
  },
  {
   "cell_type": "markdown",
   "metadata": {
    "colab_type": "text",
    "id": "-2QIarHozg-a"
   },
   "source": [
    "\n",
    "### 1. 入力関数\n",
    "\n",
    " [Estimatorフレームワーク](https://www.tensorflow.org/get_started/premade_estimators#overview_of_programming_with_estimators)はPandasのデータフレームをラップする[入力関数](https://www.tensorflow.org/api_docs/python/tf/estimator/inputs/pandas_input_fn)を提供します。\n"
   ]
  },
  {
   "cell_type": "code",
   "execution_count": null,
   "metadata": {
    "colab": {},
    "colab_type": "code",
    "id": "YzVrB_4hzg-b"
   },
   "outputs": [],
   "source": [
    "# Training input on the whole training set with no limit on training epochs.\n",
    "train_input_fn = tf.estimator.inputs.pandas_input_fn(\n",
    "    train_df, train_df[\"polarity\"], num_epochs=None, shuffle=True)\n",
    "\n",
    "# Prediction on the whole training set.\n",
    "predict_train_input_fn = tf.estimator.inputs.pandas_input_fn(\n",
    "    train_df, train_df[\"polarity\"], shuffle=False)\n",
    "# Prediction on the test set.\n",
    "predict_test_input_fn = tf.estimator.inputs.pandas_input_fn(\n",
    "    test_df, test_df[\"polarity\"], shuffle=False)"
   ]
  },
  {
   "cell_type": "markdown",
   "metadata": {
    "colab_type": "text",
    "id": "GUWNrmxOzg-e"
   },
   "source": [
    "\n",
    "### 2. 特徴カラム\n",
    "\n",
    " TF-Hubには、与えられたテキストにモジュールを適用し、さらにそのモジュールの出力を渡す[特徴カラム](https://github.com/tensorflow/hub/blob/master/docs/api_docs/python/hub/text_embedding_column.md)があります。このチュートリアルでは、 [nnlm-en-dim128モジュール](https://tfhub.dev/google/nnlm-en-dim128/1)を使います。モジュールは以下の役割を果たします。\n",
    " \n",
    "- 入力として**文のバッチを文字列の1-Dテンソル**として取る \n",
    "- **文の前処理** （句読点の削除やスペースでの単語分割など）を担当する\n",
    "- どんな入力でも動作する（例えば、 **nnlm-en-dim128**は未知語（語彙にない単語）も〜2万種類にハッシュする）\n"
   ]
  },
  {
   "cell_type": "code",
   "execution_count": null,
   "metadata": {
    "colab": {},
    "colab_type": "code",
    "id": "k6nounaGzg-f"
   },
   "outputs": [],
   "source": [
    "embedded_text_feature_column = hub.text_embedding_column(\n",
    "    key=\"sentence\", \n",
    "    module_spec=\"https://tfhub.dev/google/nnlm-en-dim128/1\")"
   ]
  },
  {
   "cell_type": "markdown",
   "metadata": {
    "colab_type": "text",
    "id": "SYsTvByZzg-h"
   },
   "source": [
    "\n",
    "### 3. 推論器\n",
    "\n",
    "分類には[DNN Classifier](https://www.tensorflow.org/api_docs/python/tf/estimator/DNNClassifier)を使うことができます（チュートリアル最後の、ラベル関数の異なるモデル化についての注意も参照してください）。 \n"
   ]
  },
  {
   "cell_type": "code",
   "execution_count": null,
   "metadata": {
    "colab": {},
    "colab_type": "code",
    "id": "2p8_pLfezg-h"
   },
   "outputs": [],
   "source": [
    "estimator = tf.estimator.DNNClassifier(\n",
    "    hidden_units=[500, 100],\n",
    "    feature_columns=[embedded_text_feature_column],\n",
    "    n_classes=2,\n",
    "    optimizer=tf.train.AdagradOptimizer(learning_rate=0.003))"
   ]
  },
  {
   "cell_type": "markdown",
   "metadata": {
    "colab_type": "text",
    "id": "efL8EeNVzg-k"
   },
   "source": [
    "\n",
    "## E. モデルを学習させる\n",
    "\n",
    "推論器を合理的なステップ数分、学習させます。 \n"
   ]
  },
  {
   "cell_type": "code",
   "execution_count": null,
   "metadata": {
    "colab": {},
    "colab_type": "code",
    "id": "sWJ6Pha6zg-k"
   },
   "outputs": [],
   "source": [
    "# Training for 1,000 steps means 128,000 training examples with the default\n",
    "# batch size. This is roughly equivalent to 5 epochs since the training dataset\n",
    "# contains 25,000 examples.\n",
    "estimator.train(input_fn=train_input_fn, steps=1000);"
   ]
  },
  {
   "cell_type": "markdown",
   "metadata": {
    "colab_type": "text",
    "id": "Tr9-jBQVzg-o"
   },
   "source": [
    "\n",
    "## F. 学習済みモデルを評価する\n",
    "\n",
    "学習データセットとテストデータセットの両方に対して予測を実行します。 \n"
   ]
  },
  {
   "cell_type": "code",
   "execution_count": null,
   "metadata": {
    "colab": {},
    "colab_type": "code",
    "id": "hbX3nFHqzg-q"
   },
   "outputs": [],
   "source": [
    "train_eval_result = estimator.evaluate(input_fn=predict_train_input_fn)\n",
    "test_eval_result = estimator.evaluate(input_fn=predict_test_input_fn)\n",
    "\n",
    "print(\"Training set accuracy: {accuracy}\".format(**train_eval_result))\n",
    "print(\"Test set accuracy: {accuracy}\".format(**test_eval_result))"
   ]
  },
  {
   "cell_type": "markdown",
   "metadata": {
    "colab_type": "text",
    "id": "G4CK4wHIzg-t"
   },
   "source": [
    "\n",
    "### 1. 混同行列\n",
    "\n",
    "誤分類の分布を理解するために、混同行列を見てみましょう。\n"
   ]
  },
  {
   "cell_type": "code",
   "execution_count": null,
   "metadata": {
    "colab": {},
    "colab_type": "code",
    "id": "rSCS4arJzg-u"
   },
   "outputs": [],
   "source": [
    "def get_predictions(estimator, input_fn):\n",
    "  return [x[\"class_ids\"][0] for x in estimator.predict(input_fn=input_fn)]\n",
    "\n",
    "LABELS = [\n",
    "    \"negative\", \"positive\"\n",
    "]\n",
    "\n",
    "# Create a confusion matrix on training data.\n",
    "with tf.Graph().as_default():\n",
    "  cm = tf.confusion_matrix(train_df[\"polarity\"], \n",
    "                           get_predictions(estimator, predict_train_input_fn))\n",
    "  with tf.Session() as session:\n",
    "    cm_out = session.run(cm)\n",
    "\n",
    "# Normalize the confusion matrix so that each row sums to 1.\n",
    "cm_out = cm_out.astype(float) / cm_out.sum(axis=1)[:, np.newaxis]\n",
    "\n",
    "sns.heatmap(cm_out, annot=True, xticklabels=LABELS, yticklabels=LABELS);\n",
    "plt.xlabel(\"Predicted\");\n",
    "plt.ylabel(\"True\");"
   ]
  },
  {
   "cell_type": "markdown",
   "metadata": {
    "colab_type": "text",
    "id": "42cPtpm-zg-z"
   },
   "source": [
    "\n",
    "# さらなる改良\n",
    "1.  **感情の回帰** ：ここでは分類器を使い、各サンプルをポジティブな評価・ネガティブな評価という2つのクラスに割り当てました。しかし、データセット上はカテゴリー変数として「感情」という属性と、その尺度を持っています。「感情」は、0から10のスケールで表されており、基礎となる値（ポジティブ/ネガティブ）は連続した範囲にうまくマッピングできます。分類（ [DNN Classifier](https://www.tensorflow.org/api_docs/python/tf/contrib/learn/DNNClassifier) ）の代わりに回帰（ [DNN Regressor](https://www.tensorflow.org/api_docs/python/tf/contrib/learn/DNNRegressor) ）を計算すると、この0から10のスケールを利用できます。 \n",
    "1.  **大きいモジュール** ：このチュートリアルでは、メモリ使用量を抑えるために小さいモジュールを使いました。より大きな語彙・埋め込み空間（単語の分散表現の次元）を持つモジュールがあります。それらを使うと、精度向上が見込まれます。\n",
    "1.  **パラメータ調整** ：特に別のモジュールを使う場合、学習率やステップ数などのハイパーパラメータを調整し、精度を向上できます。妥当な結果を得るには、検証データセットがとても大事です。何もしないと、モデルは学習データセットだけが得意な（過学習した）状態に、簡単に陥ってしまうからです。 \n",
    "1.  **より複雑なモデル** ：今回は、各文のembeddingの計算に、各文が持つ各単語のembeddingを平均するモジュールを使いました。文の性質をよりよく捉えるため、シーケンシャルモジュール（例： [Universal Sentence Encoder](https://tfhub.dev/google/universal-sentence-encoder/2)モジュール）も使えます。または2つ以上のTF-Hubモジュールのアンサンブルもできます。\n",
    "1.  **正則化** ：過学習を防ぐため、正則化を行うオプティマイザを使えます。例えば[Proximal Adagrad Optimizer](https://www.tensorflow.org/api_docs/python/tf/train/ProximalAdagradOptimizer)などが挙げられます。\n"
   ]
  },
  {
   "cell_type": "markdown",
   "metadata": {
    "colab_type": "text",
    "id": "HPsfq9kVzg-1"
   },
   "source": [
    "\n",
    "# その2 - 発展：転移学習の分析\n",
    "\n",
    "転移学習により、 **学習リソースを節約**し、**小規模なデータセットで学習**して、優れた汎化性能を達成できます。このパートでは、2つの異なるTF-Hubモジュールを使った学習で、これを実証します。 \n",
    "\n",
    "-  **[nnlm-en-dim128](https://tfhub.dev/google/nnlm-en-dim128/1)** - 事前学習済みのテキストembeddingモジュール\n",
    "-  **[random-nnlm-en-dim128](https://tfhub.dev/google/random-nnlm-en-dim128/1)** - **nnlm-en-dim128**と同じ語彙やネットワークを持つテキストembeddingモジュール。ただし重みはランダムに初期化され、実際のデータでの学習は行なっていません \n"
   ]
  },
  {
   "cell_type": "markdown",
   "metadata": {},
   "source": [
    "\n",
    "## E. モデルを学習させる\n",
    "\n",
    "これらを2つのモードで学習させます。 \n",
    "\n",
    "-  **分類器のみを**学習させる （つまりモジュールの重みは変えない（凍結する））\n",
    "-  **モジュールと分類器を共に**学習させる \n",
    "\n",
    "いくつかの学習と評価を試し、モジュールごとに、精度にどんな違いが出るか確認しましょう。 \n",
    "\n"
   ]
  },
  {
   "cell_type": "code",
   "execution_count": null,
   "metadata": {
    "colab": {},
    "colab_type": "code",
    "id": "5S3FLWvBzg-3"
   },
   "outputs": [],
   "source": [
    "def train_and_evaluate_with_module(hub_module, train_module=False):\n",
    "  embedded_text_feature_column = hub.text_embedding_column(\n",
    "      key=\"sentence\", module_spec=hub_module, trainable=train_module)\n",
    "\n",
    "  estimator = tf.estimator.DNNClassifier(\n",
    "      hidden_units=[500, 100],\n",
    "      feature_columns=[embedded_text_feature_column],\n",
    "      n_classes=2,\n",
    "      optimizer=tf.train.AdagradOptimizer(learning_rate=0.003))\n",
    "\n",
    "  estimator.train(input_fn=train_input_fn, steps=1000)\n",
    "\n",
    "  train_eval_result = estimator.evaluate(input_fn=predict_train_input_fn)\n",
    "  test_eval_result = estimator.evaluate(input_fn=predict_test_input_fn)\n",
    "\n",
    "  training_set_accuracy = train_eval_result[\"accuracy\"]\n",
    "  test_set_accuracy = test_eval_result[\"accuracy\"]\n",
    "\n",
    "  return {\n",
    "      \"Training accuracy\": training_set_accuracy,\n",
    "      \"Test accuracy\": test_set_accuracy\n",
    "  }\n",
    "\n",
    "\n",
    "results = {}\n",
    "results[\"nnlm-en-dim128\"] = train_and_evaluate_with_module(\n",
    "    \"https://tfhub.dev/google/nnlm-en-dim128/1\")\n",
    "results[\"nnlm-en-dim128-with-module-training\"] = train_and_evaluate_with_module(\n",
    "    \"https://tfhub.dev/google/nnlm-en-dim128/1\", True)\n",
    "results[\"random-nnlm-en-dim128\"] = train_and_evaluate_with_module(\n",
    "    \"https://tfhub.dev/google/random-nnlm-en-dim128/1\")\n",
    "results[\"random-nnlm-en-dim128-with-module-training\"] = train_and_evaluate_with_module(\n",
    "    \"https://tfhub.dev/google/random-nnlm-en-dim128/1\", True)"
   ]
  },
  {
   "cell_type": "markdown",
   "metadata": {},
   "source": [
    "## F. 学習済みモデルを評価する"
   ]
  },
  {
   "cell_type": "markdown",
   "metadata": {
    "colab_type": "text",
    "id": "cDXQ2PaMzg-5"
   },
   "source": [
    "\n",
    "結果を見てみましょう。 \n"
   ]
  },
  {
   "cell_type": "code",
   "execution_count": null,
   "metadata": {
    "colab": {},
    "colab_type": "code",
    "id": "ruJHHuNAzg-5"
   },
   "outputs": [],
   "source": [
    "pd.DataFrame.from_dict(results, orient=\"index\")"
   ]
  },
  {
   "cell_type": "markdown",
   "metadata": {
    "colab_type": "text",
    "id": "s_pYfrqfzg_B"
   },
   "source": [
    "We can already see some patterns, but first we should establish the baseline accuracy of the test set - the lower bound that can be achieved by outputting only the label of the most represented class:"
   ]
  },
  {
   "cell_type": "markdown",
   "metadata": {
    "colab_type": "text",
    "id": "1v2Z6rqizg_B"
   },
   "source": [
    "\n",
    "すでに一定の傾向が見えますが、まずテストデータのベースラインの精度を確認します。ベースラインの精度とは、最も出現頻度の高いクラスのラベルで全出力を埋めると仮定すると出る、精度の下限です。 \n"
   ]
  },
  {
   "cell_type": "code",
   "execution_count": null,
   "metadata": {
    "colab": {},
    "colab_type": "code",
    "id": "suz4Xdvwzg_C"
   },
   "outputs": [],
   "source": [
    "estimator.evaluate(input_fn=predict_test_input_fn)[\"accuracy_baseline\"]"
   ]
  },
  {
   "cell_type": "markdown",
   "metadata": {
    "colab_type": "text",
    "id": "B78foze0zg_D"
   },
   "source": [
    "\n",
    "最も出現頻度の高いクラスで埋めると、 **50％** という精度が得られます。ここでいくつか注意があります。 \n",
    "\n",
    "1. 不思議なことに、**固定かつランダムなembedding上でも、モデルの学習は進みます。** その理由は、たとえ辞書内のすべての単語がランダムなベクトルに対応づけられていても、推論器は、全結合層を使って、空間を分離できるからです。 \n",
    "1.  **ランダムなembedding**のモジュールを学習可とすると、分類器だけの学習のに比べ、学習、テスト両方の精度向上がみられます。\n",
    "1.  **学習済みembeddingモジュール**を学習しても、学習、テスト両方の精度が向上します。ただし学習セットへの過学習に注意してください。事前学習モジュールの追加学習は、正則化を使ってもなお危険です。もともと事前学習時は多様なデータセットで言語モデルが獲得されていましたが、追加学習で、新しいデータセットという局所での最適な表現に収束してしまいます。"
   ]
  },
  {
   "cell_type": "code",
   "execution_count": null,
   "metadata": {
    "colab": {},
    "colab_type": "code",
    "id": "eQpmiFnZ4hRf"
   },
   "outputs": [],
   "source": []
  }
 ],
 "metadata": {
  "colab": {
   "collapsed_sections": [],
   "name": "映画情報サイトにあるレビューを識別する（その2）",
   "provenance": [],
   "version": "0.3.2"
  },
  "kernelspec": {
   "display_name": "Python 3",
   "language": "python",
   "name": "python3"
  },
  "accelerator": "GPU"
 },
 "nbformat": 4,
 "nbformat_minor": 2
}