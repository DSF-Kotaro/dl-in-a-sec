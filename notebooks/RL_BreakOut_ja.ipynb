{
  "nbformat": 4,
  "nbformat_minor": 0,
  "metadata": {
    "colab": {
      "name": "ブロック崩しを学習する",
      "version": "0.3.2",
      "provenance": [],
      "collapsed_sections": [],
      "toc_visible": true
    },
    "kernelspec": {
      "name": "python3",
      "display_name": "Python 3"
    },
    "accelerator": "GPU"
  },
  "cells": [
    {
      "cell_type": "markdown",
      "metadata": {
        "colab_type": "text",
        "id": "cEl9dDO9T5tC"
      },
      "source": [
        "# ブロック崩しを学習する\n",
        "\n",
        "Stable BaselinesとRL Baselines Zooを用いて、強化学習によるブロック崩しゲームの学習を試します。\n",
        "\n",
        "CartPole、LunarLanderと同様に、まずStable Baselinesで学習の詳細の流れを確認したあと、RL Baselines Zooのお手軽1行コマンドで学習、結果の可視化を行います。\n",
        "\n",
        "このノートブックは以下の内容を含みます。\n",
        "\n",
        "- 環境準備\n",
        "- Gym環境とエージェントを作成\n",
        "- エージェントの学習と評価\n",
        "- 1行のコマンドで学習\n",
        "- リプレイ動画の生成\n",
        "\n",
        "\n",
        "なお、GIFアニメーションによる学習前後のプレイの可視化は、ikeyasu氏の[ChainerRL を Colaboratory で動かす - Qiita](https://qiita.com/ikeyasu/items/ec3c88ce13a2d5e41f26) を参考として作成しました。"
      ]
    },
    {
      "cell_type": "markdown",
      "metadata": {
        "colab_type": "text",
        "id": "7EaUrl1MUE_8"
      },
      "source": [
        "## A. 環境を準備する\n",
        "\n",
        "Stable Baselinesと依存ライブラリをインストールします。"
      ]
    },
    {
      "cell_type": "markdown",
      "metadata": {
        "colab_type": "text",
        "id": "tc8At4CIeRjR"
      },
      "source": [
        "### 1. 必要なライブラリのインストール\n",
        "\n",
        "インストールに5分程度を要します。"
      ]
    },
    {
      "cell_type": "code",
      "execution_count": null,
      "metadata": {},
      "outputs": [],
      "source": []
    },
    {
      "cell_type": "code",
      "execution_count": 0,
      "metadata": {
        "colab": {},
        "colab_type": "code",
        "id": "gWskDE2c9WoN"
      },
      "outputs": [],
      "source": [
        "!apt-get -y install swig xvfb python-opengl\n",
        "!pip install box2d box2d-kengz pybullet pyyaml pytablewriter pyvirtualdisplay"
      ]
    },
    {
      "cell_type": "markdown",
      "metadata": {
        "colab_type": "text",
        "id": "FtY8FhliLsGm"
      },
      "source": [
        "### 2. 必要ライブラリ、方策などをインポート"
      ]
    },
    {
      "cell_type": "code",
      "execution_count": 0,
      "metadata": {
        "colab": {},
        "colab_type": "code",
        "id": "BIedd7Pz9sOs"
      },
      "outputs": [],
      "source": [
        "import os\n",
        "import numpy as np\n",
        "\n",
        "from stable_baselines.common.cmd_util import make_atari_env\n",
        "from stable_baselines.deepq.policies import CnnPolicy\n",
        "from stable_baselines.common.vec_env import VecFrameStack\n",
        "from stable_baselines import DQN\n",
        "\n",
        "from pyvirtualdisplay import Display\n",
        "\n",
        "import matplotlib.pyplot as plt\n",
        "import matplotlib.animation\n",
        "from IPython.display import HTML"
      ]
    },
    {
      "cell_type": "markdown",
      "metadata": {
        "colab_type": "text",
        "id": "7EWSCq3tUYQS"
      },
      "source": [
        "## B. Gym環境を準備する\n"
      ]
    },
    {
      "cell_type": "markdown",
      "metadata": {
        "colab_type": "text",
        "id": "_kQuzO8DUiWL"
      },
      "source": [
        "Atari環境を整備してくれる関数(make_atari_env)があるため、それを使います。\n",
        "\n",
        "- num_env: 並列する環境数\n",
        "- VecFrameStack: スタックするフレーム数を指定"
      ]
    },
    {
      "cell_type": "code",
      "execution_count": 0,
      "metadata": {
        "colab": {},
        "colab_type": "code",
        "id": "pUWGZp3i9wyf"
      },
      "outputs": [],
      "source": [
        "env = make_atari_env('BreakoutNoFrameskip-v4', num_env=1, seed=0)"
      ]
    },
    {
      "cell_type": "markdown",
      "metadata": {
        "colab_type": "text",
        "id": "c-yYuiOue5Ih"
      },
      "source": [
        "## C. その他の処理を準備する\n",
        "\n",
        "Gym環境以外のヘルパー関数などを準備します。"
      ]
    },
    {
      "cell_type": "markdown",
      "metadata": {
        "colab_type": "text",
        "id": "m3eure7cfAC9"
      },
      "source": [
        "### 1. プレイ動画の再生用関数\n",
        "\n",
        "次に、仮想ディプレイを利用し、Colaboratory上でエージェントの振る舞いをアニメーションで見られるようにする関数を定義します。"
      ]
    },
    {
      "cell_type": "code",
      "execution_count": 0,
      "metadata": {
        "colab": {},
        "colab_type": "code",
        "id": "jYgHOHS3e7-9"
      },
      "outputs": [],
      "source": [
        "def playback(model, env, maxsteps):\n",
        "  # Start virtual display\n",
        "  display = Display(visible=0, size=(1024, 768))\n",
        "  display.start()\n",
        "\n",
        "  os.environ[\"DISPLAY\"] = \":\" + str(display.display) + \".\" + str(display.screen)\n",
        "\n",
        "  frames = []\n",
        "  for i in range(3):\n",
        "      obs = env.reset()\n",
        "      done = False\n",
        "      R = 0\n",
        "      t = 0\n",
        "      while not done and t < maxsteps:\n",
        "          frames.append(env.render(mode = 'rgb_array'))\n",
        "          action, _states = model.predict(obs)        \n",
        "          obs, rewards, dones, info = env.step(action)\n",
        "          R += rewards\n",
        "          t += 1\n",
        "      print('test episode:', i, 'R:', R)\n",
        "  #    model.stop_episode()\n",
        "  #env.render()\n",
        "\n",
        "  return frames"
      ]
    },
    {
      "cell_type": "markdown",
      "metadata": {
        "colab_type": "text",
        "id": "tjdTM4vRetp7"
      },
      "source": [
        "## D. モデルを作成する"
      ]
    },
    {
      "cell_type": "markdown",
      "metadata": {
        "colab_type": "text",
        "id": "PBG15UXIUkZf"
      },
      "source": [
        "### 1. エージェントの準備"
      ]
    },
    {
      "cell_type": "code",
      "execution_count": 0,
      "metadata": {
        "colab": {},
        "colab_type": "code",
        "id": "QzaQfTsHz5BF"
      },
      "outputs": [],
      "source": [
        "# policy: 'CnnPolicy'\n",
        "# n_timesteps: !!float 1e7\n",
        "# buffer_size: 10000\n",
        "# learning_rate: !!float 1e-4\n",
        "# learning_starts: 10000\n",
        "# target_network_update_freq: 1000\n",
        "# train_freq: 4\n",
        "# exploration_final_eps: 0.01\n",
        "# exploration_fraction: 0.1\n",
        "# prioritized_replay_alpha: 0.6\n",
        "# prioritized_replay: True\n",
        "#n_timesteps=int(1e7), \n",
        "\n",
        "model = DQN(CnnPolicy, env, verbose=1, buffer_size=10000, learning_rate=int(1e4), learning_starts=10000, target_network_update_freq=1000, train_freq=4, exploration_final_eps=0.01, exploration_fraction=0.1, prioritized_replay_alpha=0.6, prioritized_replay=True, tensorboard_log=\"./breakout_tensorboard/\")"
      ]
    },
    {
      "cell_type": "markdown",
      "metadata": {
        "colab_type": "text",
        "id": "XYStO93rDJe9"
      },
      "source": [
        "### 4. 未学習状態での振る舞いを見る"
      ]
    },
    {
      "cell_type": "markdown",
      "metadata": {
        "colab_type": "text",
        "id": "kp2zupZkhpuv"
      },
      "source": [
        "この未学習状態でのプレイぶりを再生してみましょう。"
      ]
    },
    {
      "cell_type": "code",
      "execution_count": 0,
      "metadata": {
        "colab": {},
        "colab_type": "code",
        "id": "9d5efJutDMaw"
      },
      "outputs": [],
      "source": [
        "frames = playback(model, env, 100)\n",
        "\n",
        "plt.figure(figsize=(frames[0].shape[1] / 72.0, frames[0].shape[0] / 72.0), dpi = 72)\n",
        "patch = plt.imshow(frames[0])\n",
        "plt.axis('off')\n",
        "animate = lambda i: patch.set_data(frames[i])\n",
        "ani = matplotlib.animation.FuncAnimation(plt.gcf(), animate, frames=len(frames), interval = 50)\n",
        "HTML(ani.to_jshtml())"
      ]
    },
    {
      "cell_type": "markdown",
      "metadata": {
        "colab_type": "text",
        "id": "0VrQ01sn0ITo"
      },
      "source": [
        "## E. エージェントを学習させる"
      ]
    },
    {
      "cell_type": "markdown",
      "metadata": {
        "colab_type": "text",
        "id": "TbOdIwEZMoAJ"
      },
      "source": [
        "### 1. TensorBoardのインライン起動\n",
        "\n",
        "TensorBoardをインラインで起動し、学習の進捗をモニタできるようにします。\n"
      ]
    },
    {
      "cell_type": "code",
      "execution_count": 0,
      "metadata": {
        "colab": {},
        "colab_type": "code",
        "id": "rCOeuatQzPGM"
      },
      "outputs": [],
      "source": [
        "%load_ext tensorboard\n",
        "%tensorboard --logdir breakout_tensorboard/BreakoutNoFrameskip-v4"
      ]
    },
    {
      "cell_type": "markdown",
      "metadata": {
        "colab_type": "text",
        "id": "4Jx3d1ZUVFEl"
      },
      "source": [
        "### 2. エージェントを学習させ、プレイバックを確認する"
      ]
    },
    {
      "cell_type": "markdown",
      "metadata": {
        "colab_type": "text",
        "id": "NjvxMgAhjop8"
      },
      "source": [
        "1万ステップの学習をしてみます。"
      ]
    },
    {
      "cell_type": "code",
      "execution_count": 0,
      "metadata": {
        "colab": {},
        "colab_type": "code",
        "id": "Ku75oPnyjdgw"
      },
      "outputs": [],
      "source": [
        "n_timesteps = 10000\n",
        "model.learn(n_timesteps)"
      ]
    },
    {
      "cell_type": "markdown",
      "metadata": {
        "colab_type": "text",
        "id": "KRHhP5KHj8jo"
      },
      "source": [
        "まだ、これでは全くゲームのプレイの体を成していません。"
      ]
    },
    {
      "cell_type": "code",
      "execution_count": 0,
      "metadata": {
        "colab": {},
        "colab_type": "code",
        "id": "8NpiASuSjdke"
      },
      "outputs": [],
      "source": [
        "frames = playback(model, env, 100)\n",
        "\n",
        "plt.figure(figsize=(frames[0].shape[1] / 72.0, frames[0].shape[0] / 72.0), dpi = 72)\n",
        "patch = plt.imshow(frames[0])\n",
        "plt.axis('off')\n",
        "animate = lambda i: patch.set_data(frames[i])\n",
        "ani = matplotlib.animation.FuncAnimation(plt.gcf(), animate, frames=len(frames), interval = 50)\n",
        "HTML(ani.to_jshtml())"
      ]
    },
    {
      "cell_type": "markdown",
      "metadata": {
        "colab_type": "text",
        "id": "IKfPVlrZMJG8"
      },
      "source": [
        "### 3. RL Baselines Zooの導入\n",
        "\n",
        "今回も、ここからは、\n",
        "\n",
        "- 環境を準備する\n",
        "- エージェントを作成する\n",
        "- 環境上で、エージェントに探索させる\n",
        "\n",
        "というステップを1行のコマンドの裏側にまとめてくれるRL Baselines Zooを使ってみましょう。\n",
        "\n",
        "例によって、まずRL Baselines Zooのリポジトリをコピーします。\n"
      ]
    },
    {
      "cell_type": "code",
      "execution_count": 0,
      "metadata": {
        "colab": {},
        "colab_type": "code",
        "id": "gk67nA82ycvR"
      },
      "outputs": [],
      "source": [
        "%cd /content\n",
        "!git clone https://github.com/araffin/rl-baselines-zoo.git\n",
        "%cd /content/rl-baselines-zoo"
      ]
    },
    {
      "cell_type": "markdown",
      "metadata": {
        "colab_type": "text",
        "id": "AsjwvhHgNATc"
      },
      "source": [
        "### 4. 1行のコマンドで学習する\n",
        "\n",
        "いよいよエージェントの学習を開始します。今回はDQNというモデルを使います。\n",
        "\n",
        "DQNで `BreakOutNoFrameskip-v4` 環境での学習を進める時、どのようなハイパーパラメータが事前設定されているか、確認してみましょう。\n",
        "\n",
        "以下のコマンドで、DQN用のパラメータを確認できます。 `atari:` 以下に書かれた内容を確認しましょう。"
      ]
    },
    {
      "cell_type": "code",
      "execution_count": 0,
      "metadata": {
        "colab": {},
        "colab_type": "code",
        "id": "eDO9EejoOvUX"
      },
      "outputs": [],
      "source": [
        "!cat /content/rl-baselines-zoo/hyperparams/dqn.yml"
      ]
    },
    {
      "cell_type": "markdown",
      "metadata": {
        "colab_type": "text",
        "id": "IquwlRsSPUGt"
      },
      "source": [
        "以下のようなパラメータが設定されているようです。\n",
        "\n",
        "```\n",
        "atari:\n",
        "  policy: 'CnnPolicy'\n",
        "  n_timesteps: !!float 1e7\n",
        "  buffer_size: 10000\n",
        "  learning_rate: !!float 1e-4\n",
        "  learning_starts: 10000\n",
        "  target_network_update_freq: 1000\n",
        "  train_freq: 4\n",
        "  exploration_final_eps: 0.01\n",
        "  exploration_fraction: 0.1\n",
        "  prioritized_replay_alpha: 0.6\n",
        "  prioritized_replay: True\n",
        "```"
      ]
    },
    {
      "cell_type": "markdown",
      "metadata": {
        "colab_type": "text",
        "id": "OepFKxZoPb1Y"
      },
      "source": [
        "### 5. 学習の開始"
      ]
    },
    {
      "cell_type": "markdown",
      "metadata": {
        "colab_type": "text",
        "id": "K_dCnqiSOvfS"
      },
      "source": [
        "以下のコマンドを実行したら、TensorBoardのセルに戻り、reward、lossの変化の様子を確認してみましょう。\n",
        "\n",
        "また、実行中にランタイムへの接続が切れた場合は、メニュー右上の「再接続」ボタンより、再度繋ぐことができます。"
      ]
    },
    {
      "cell_type": "code",
      "execution_count": 0,
      "metadata": {
        "colab": {},
        "colab_type": "code",
        "id": "Afj-fxZJCeOq"
      },
      "outputs": [],
      "source": [
        "!python train.py --algo dqn --env BreakoutNoFrameskip-v4 --tensorboard-log breakout_tensorboard/"
      ]
    },
    {
      "cell_type": "markdown",
      "metadata": {
        "colab_type": "text",
        "id": "NsoI9GCuDze_"
      },
      "source": [
        "実行すると、 `logs/dqn/BreakoutNoFrameskip-v4_1/` に  `BreakoutNoFrameskip-v4.zip` として、学習済みエージェントのモデルが保存さます。"
      ]
    },
    {
      "cell_type": "markdown",
      "metadata": {
        "colab_type": "text",
        "id": "pat5nGdVVFHu"
      },
      "source": [
        "## F. 学習済みエージェントの評価\n",
        "\n",
        "保存された学習済みエージェントのモデルを使って、振る舞いを観察してみましょう。"
      ]
    },
    {
      "cell_type": "markdown",
      "metadata": {
        "colab_type": "text",
        "id": "jiDqFNf_NksV"
      },
      "source": [
        "以下のセルを実行すると、出力セルで、アニメーションを再生できます。これは、今回あなたが学習させたエージェントのプレイする様子です！"
      ]
    },
    {
      "cell_type": "code",
      "execution_count": 0,
      "metadata": {
        "colab": {},
        "colab_type": "code",
        "id": "ER9s0hEKX4N2"
      },
      "outputs": [],
      "source": [
        "frames = playback(model, env, 300)\n",
        "\n",
        "plt.figure(figsize=(frames[0].shape[1] / 72.0, frames[0].shape[0] / 72.0), dpi = 72)\n",
        "patch = plt.imshow(frames[0])\n",
        "plt.axis('off')\n",
        "animate = lambda i: patch.set_data(frames[i])\n",
        "ani = matplotlib.animation.FuncAnimation(plt.gcf(), animate, frames=len(frames), interval = 50)\n",
        "HTML(ani.to_jshtml())"
      ]
    },
    {
      "cell_type": "markdown",
      "metadata": {
        "colab_type": "text",
        "id": "F0MUNb_uW7aE"
      },
      "source": [
        "## まとめと発展\n",
        "\n",
        "このノートブックでは、Atariゲームのひとつ、BreakOut（ブロック崩し）に強化学習エージェントを習熟させることができました。\n",
        "\n",
        "コードの一部を改変することで、他のAtariゲームに対する学習を行ったり、学習済みエージェントの再生を行うことができます。試してみましょう。"
      ]
    },
    {
      "cell_type": "code",
      "execution_count": 0,
      "metadata": {
        "colab": {},
        "colab_type": "code",
        "id": "82Ghuxi3OHFP"
      },
      "outputs": [],
      "source": [
        ""
      ]
    }
  ]
}