{
 "cells": [
  {
   "cell_type": "markdown",
   "metadata": {
    "colab_type": "text",
    "id": "RMMwUYv-By_u"
   },
   "source": [
    "##### Copyright 2017 Google LLC.\n",
    "\n",
    "##### Modifications Copyright 2019 Tomoaki Masuda.\n",
    "\n",
    "Licensed under the Apache License, Version 2.0 (the \"License\");\n",
    "you may not use this file except in compliance with the License.\n",
    "You may obtain a copy of the License at\n",
    "\n",
    "https://www.apache.org/licenses/LICENSE-2.0\n",
    "\n",
    "Unless required by applicable law or agreed to in writing, software\n",
    "distributed under the License is distributed on an \"AS IS\" BASIS,\n",
    "WITHOUT WARRANTIES OR CONDITIONS OF ANY KIND, either express or implied.\n",
    "See the License for the specific language governing permissions and\n",
    "limitations under the License.\n",
    "\n"
   ]
  },
  {
   "cell_type": "markdown",
   "metadata": {},
   "source": [
    "このノートブックは、以下のノートブックを元に日本語訳、一部章立ての再構成、加筆を行いました。 \n",
    "https://colab.research.google.com/notebooks/magenta/nsynth/nsynth.ipynb"
   ]
  },
  {
   "cell_type": "markdown",
   "metadata": {
    "colab_type": "text",
    "id": "CkkirQHoBy_x"
   },
   "source": [
    "\n",
    "#  E-Z NSynthでまだ聴いたことのない楽器の音を作る\n",
    "\n",
    "**WaveNetオートエンコーダによるニューラルオーディオ合成、ICML 2017** \n",
    "\n",
    "Jesse Engel、Cinjon Resnick、Adam Roberts、Sander Dieleman、Douglas Eck、Karen Simonyan、Mohammad Norouzi \n",
    "\n",
    "## 説明\n",
    "\n",
    "- このノートブックには、手元のサウンドをアップロードし、NSynthモデルを使って、それらを再構築したり補間するために必要なものがすべて揃っています\n",
    "- これらのサウンドは[Andrew Huang Rocking Out with NSynth](https://www.youtube.com/watch?v=AaALLWQmCdI)のように、みなさん独自の音楽の音素材として使えます \n",
    "- ドロップダウンメニューから**編集&gt;&gt;ノートブック設定&gt;&gt;ハードウェアアクセラレータ&gt;&gt; GPU**を選択し、GPUが有効化されたカーネルを必ず使ってください \n",
    "- このノートブックは、コードを書いたり見たりしなくても実行できます。各セルの左側にある三角の **「再生」** ボタンをクリックするだけです\n",
    "- 一番上から始め、順番に下へ進み、各セルの **「再生」** をクリックします\n",
    "- コードを見たい場合は、各セルの右上のメニューから表示できます\n",
    "\n",
    "### その他の資料\n",
    "\n",
    "* [Nat and Friends \"Behind the scenes\"](https://www.youtube.com/watch?v=BOoSy-Pg8is)\n",
    "* [Original Blog Post](https://magenta.tensorflow.org/nsynth)\n",
    "* [NSynth Instrument](https://magenta.tensorflow.org/nsynth-instrument)\n",
    "* [Jupyter Notebook Tutorial](https://magenta.tensorflow.org/nsynth-fastgen)\n",
    "* [ArXiv Paper](https://arxiv.org/abs/1704.01279)\n",
    "* [Github Code](https://github.com/tensorflow/magenta/tree/master/magenta/models/nsynth)\n",
    "\n"
   ]
  },
  {
   "cell_type": "markdown",
   "metadata": {
    "colab_type": "text",
    "id": "vsMc-9axBy_z"
   },
   "source": [
    "\n",
    "## A. 環境を準備する\n",
    "\n",
    "はじめに、事前学習済みNSynthモデルをダウンロード・選択します。数GBを転送するため、1-2分かかるかもしれません。 次のセルの **「再生」** マークをクリックしてください。\n"
   ]
  },
  {
   "cell_type": "code",
   "execution_count": null,
   "metadata": {
    "colab": {},
    "colab_type": "code",
    "id": "XI954OmJBy_0",
    "outputId": "1e94e27e-f3ac-4f2f-b799-c11491057c5b"
   },
   "outputs": [
    {
     "name": "stdout",
     "output_type": "stream",
     "text": [
      "Installing Magenta...\n",
      "\n",
      "/bin/sh: pip: command not found\n",
      "Installing ffmpeg...\n",
      "\n",
      "/bin/sh: apt-get: command not found\n",
      "Downloading Pretrained Models...\n",
      "\n",
      "Getting Instruments Model...\n",
      "\n",
      "/bin/sh: gsutil: command not found\n",
      "Getting Voices Model...\n",
      "\n",
      "/bin/sh: gsutil: command not found\n",
      "/bin/sh: line 0: cd: /content/: No such file or directory\n",
      "tar: wavenet-ckpt.tar: Cannot open: No such file or directory\n",
      "tar: Error is not recoverable: exiting now\n",
      "tar: wavenet-voice-ckpt.tar.gz: Cannot open: No such file or directory\n",
      "tar: Error is not recoverable: exiting now\n",
      "Importing Modules...\n",
      "\n"
     ]
    },
    {
     "ename": "ImportError",
     "evalue": "ignored",
     "output_type": "error",
     "traceback": [
      "\u001b[0;31mImportError:\u001b[0m No module named magenta.models.nsynth",
      "",
      "If the module is lightweight, try adhoc_import - http://go/adhoc-import\n\nOtherwise, use a custom runtime - http://go/colab-custom-runtime",
      "\u001b[1;31m---------------------------------------------------------------------------\u001b[0m\n\u001b[1;31mImportError\u001b[0m                               Traceback (most recent call last)",
      "\u001b[1;32m<ipython-input-1-3b3a4b9e3f76>\u001b[0m in \u001b[0;36m<module>\u001b[1;34m()\u001b[0m\n\u001b[0;32m     26\u001b[0m \u001b[1;33m\u001b[0m\u001b[0m\n\u001b[0;32m     27\u001b[0m \u001b[1;32mfrom\u001b[0m \u001b[0mgoogle\u001b[0m\u001b[1;33m.\u001b[0m\u001b[0mcolab\u001b[0m \u001b[1;32mimport\u001b[0m \u001b[0mfiles\u001b[0m\u001b[1;33m\u001b[0m\u001b[0m\n\u001b[1;32m---> 28\u001b[1;33m \u001b[1;32mfrom\u001b[0m \u001b[0mmagenta\u001b[0m\u001b[1;33m.\u001b[0m\u001b[0mmodels\u001b[0m\u001b[1;33m.\u001b[0m\u001b[0mnsynth\u001b[0m \u001b[1;32mimport\u001b[0m \u001b[0mutils\u001b[0m\u001b[1;33m\u001b[0m\u001b[0m\n\u001b[0m\u001b[0;32m     29\u001b[0m \u001b[1;32mfrom\u001b[0m \u001b[0mmagenta\u001b[0m\u001b[1;33m.\u001b[0m\u001b[0mmodels\u001b[0m\u001b[1;33m.\u001b[0m\u001b[0mnsynth\u001b[0m\u001b[1;33m.\u001b[0m\u001b[0mwavenet\u001b[0m \u001b[1;32mimport\u001b[0m \u001b[0mfastgen\u001b[0m\u001b[1;33m\u001b[0m\u001b[0m\n\u001b[0;32m     30\u001b[0m \u001b[1;32mfrom\u001b[0m \u001b[0mmagenta\u001b[0m\u001b[1;33m.\u001b[0m\u001b[0mmusic\u001b[0m\u001b[1;33m.\u001b[0m\u001b[0mnotebook_utils\u001b[0m \u001b[1;32mimport\u001b[0m \u001b[0mcolab_play\u001b[0m \u001b[1;32mas\u001b[0m \u001b[0mplay\u001b[0m\u001b[1;33m\u001b[0m\u001b[0m\n",
      "\u001b[1;31mImportError\u001b[0m: No module named magenta.models.nsynth"
     ]
    }
   ],
   "source": [
    "#added on 2020/6/20\n",
    "%tensorflow_version 1.x\n",
    "\n",
    "#@title Setup Environment\n",
    "#@test {\"output\": \"ignore\"}\n",
    "\n",
    "\n",
    "# Install magenta\n",
    "print('Installing Magenta...\\n')\n",
    "!pip install -q magenta\n",
    "print('Installing ffmpeg...\\n')\n",
    "!echo \"Yes\" | apt-get install ffmpeg > /dev/null\n",
    "\n",
    "\n",
    "print('Downloading Pretrained Models...\\n')\n",
    "# Copy checkpoints from google cloud\n",
    "# Copying 1GB, takes a minute\n",
    "print('Getting Instruments Model...\\n')\n",
    "!gsutil -q -m cp -R gs://download.magenta.tensorflow.org/models/nsynth/wavenet-ckpt.tar /content/\n",
    "print('Getting Voices Model...\\n')\n",
    "!gsutil -q -m cp -R gs://download.magenta.tensorflow.org/models/nsynth/wavenet-voice-ckpt.tar.gz /content/\n",
    "!cd /content/\n",
    "!tar -xvf wavenet-ckpt.tar > /dev/null\n",
    "!tar -xvf wavenet-voice-ckpt.tar.gz > /dev/null\n",
    "\n",
    "\n",
    "print('Importing Modules...\\n')\n",
    "# Load modules and helper functions\n",
    "import os\n",
    "import numpy as np\n",
    "import matplotlib.pyplot as plt\n",
    "from IPython.display import Audio\n",
    "%matplotlib inline\n",
    "\n",
    "from google.colab import files\n",
    "from magenta.models.nsynth import utils\n",
    "from magenta.models.nsynth.wavenet import fastgen\n",
    "from magenta.music.notebook_utils import colab_play as play\n",
    "\n",
    "def upload(sample_length, sr):\n",
    "  '''Upload a .wav file.'''\n",
    "  filemap = files.upload()\n",
    "  file_list, audio_list = [], []\n",
    "  for key, value in filemap.iteritems():\n",
    "    fname = os.path.join('/content/', key)\n",
    "    with open(fname, 'w') as f:\n",
    "      f.write(value)\n",
    "    audio = utils.load_audio(fname, sample_length=sample_length, sr=sr)\n",
    "    file_list.append(fname)\n",
    "    audio_list.append(audio)\n",
    "  return file_list, audio_list\n",
    "\n",
    "download = files.download\n",
    "\n",
    "get_name = lambda f: os.path.splitext(os.path.basename(f))[0]\n",
    "\n",
    "print('Sucess!! Environment is now setup.')\n"
   ]
  },
  {
   "cell_type": "markdown",
   "metadata": {
    "colab_type": "text",
    "id": "zuCVXiXNBy_5"
   },
   "source": [
    "\n",
    "2つの学習済みモデルから選べます。\n",
    "\n",
    "- 1つは[NSynth Dataset](https://magenta.tensorflow.org/datasets/nsynth)の個々の楽器ノート（ \"Instruments\"）で学習したものです\n",
    "- もう1つはアートプロジェクトのための野生の様々な声（ \"Voices\"、歌声と話すの混合）で学習しました\n",
    "\n",
    "Instrumentsモデルはより大量のデータセットで学習しているため、少し汎化性能が高いようです。どちらも完璧に音を再構築できるわけではありませんが、どちらも独特の特徴をサウンドに付加してくれます。どちらが好みか、両方試してみてください！ \n"
   ]
  },
  {
   "cell_type": "code",
   "execution_count": null,
   "metadata": {
    "colab": {},
    "colab_type": "code",
    "id": "TzHD9_-9By_6",
    "outputId": "90f2846f-4313-4597-d73c-50f1f2b7521e"
   },
   "outputs": [
    {
     "name": "stdout",
     "output_type": "stream",
     "text": [
      "Using model pretrained on Instruments.\n"
     ]
    }
   ],
   "source": [
    "#@title Choose a Model { vertical-output: true, run: \"auto\" }\n",
    "Model = \"Instruments\" #@param [\"Instruments\", \"Voices\"] {type:\"string\"}\n",
    "ckpts = {'Instruments': '/content/wavenet-ckpt/model.ckpt-200000',\n",
    "         'Voices': '/content/wavenet-voice-ckpt/model.ckpt-200000'}\n",
    "\n",
    "ckpt_path = ckpts[Model]\n",
    "print('Using model pretrained on %s.' % Model)"
   ]
  },
  {
   "cell_type": "markdown",
   "metadata": {
    "colab_type": "text",
    "id": "GFNl4hnfBy_9"
   },
   "source": [
    "\n",
    "## B. データセットを読み込む\n",
    "\n",
    "さて、いよいよ、あなたの準備したサウンドファイルを読み込みます。 `.wav`, `.mp3`ファイルいずれかを使えます。どちらも`.wav`に変換されます。すべてのファイルは、モデルへの入出力用に、16kHzへダウンサンプリングされ、`Length` 秒の長さに合うよう、トリミングまたは無音で埋められます。 \n",
    "\n",
    "手元にサウンドファイルがありませんか？freesound.orgから無料でサウンドをダウンロードできます。例えば以下があります：\n",
    "-  [https://freesound.org/people/MustardPlug/sounds/395058/](https://freesound.org/people/MustardPlug/sounds/395058/) \n",
    "-  [https://freesound.org/people/cms4f/sounds/159119/](https://freesound.org/people/cms4f/sounds/159119/) \n",
    "-  [https://freesound.org/people/juskiddink/sounds/60055/](https://freesound.org/people/juskiddink/sounds/60055/) \n",
    "-  [https://freesound.org/people/Audeption/sounds/418526/](https://freesound.org/people/Audeption/sounds/418526/) \n",
    "-  [https://freesound.org/people/Jagadamba/sounds/255878/](https://freesound.org/people/Jagadamba/sounds/255878/) \n",
    "\n",
    "クラウドGPUを使うと、 音の合成には、1秒の長さあたり、約4分かかります。覚えておいてください。\n"
   ]
  },
  {
   "cell_type": "code",
   "execution_count": null,
   "metadata": {
    "colab": {},
    "colab_type": "code",
    "id": "5pegSdLWBy_-"
   },
   "outputs": [],
   "source": [
    "#@title Set Sound Length (in Seconds) { vertical-output: true, run: \"auto\" }\n",
    "Length = 2.0 #@param {type:\"number\"}\n",
    "SR = 16000\n",
    "SAMPLE_LENGTH = int(SR * Length)"
   ]
  },
  {
   "cell_type": "markdown",
   "metadata": {
    "colab_type": "text",
    "id": "IrWqTFcNBzAB"
   },
   "source": [
    "\n",
    "`ファイル選択` から、ローカルのファイルをアップロードします。すべてのサウンドファイルを1つのフォルダに入れ、再構築/補間したいすべてのファイルを必ず選択してください。 **（Ctrl / Cmd / Shiftクリック）** \n"
   ]
  },
  {
   "cell_type": "code",
   "execution_count": null,
   "metadata": {
    "colab": {},
    "colab_type": "code",
    "id": "sLqUm1sYBzAB",
    "outputId": "fad73229-89d8-4934-df45-84502545b36f"
   },
   "outputs": [
    {
     "data": {
      "text/html": [
       "\n",
       "     <input type=\"file\" id=\"files-b883a222-e664-4f6c-b8b8-bb4b3c6c737b\" name=\"files[]\" multiple disabled />\n",
       "     <output id=\"result-b883a222-e664-4f6c-b8b8-bb4b3c6c737b\">\n",
       "      Upload widget is only available when the cell has been executed in the\n",
       "      current browser session. Please rerun this cell to enable.\n",
       "      </output>\n",
       "      <script src=\"/nbextensions/google.colab/files.js\"</script> "
      ],
      "text/plain": [
       "<IPython.core.display.HTML object>"
      ]
     },
     "metadata": {
      "tags": []
     },
     "output_type": "display_data"
    }
   ],
   "source": [
    "#@title Upload sound files (.wav, .mp3)\n",
    "\n",
    "try:\n",
    "  file_list, audio_list = upload(sample_length=SAMPLE_LENGTH, sr=SR)\n",
    "  names = [get_name(f) for f in file_list]\n",
    "  # Pad and peak normalize\n",
    "  for i in range(len(audio_list)):\n",
    "    audio_list[i] = audio_list[i] / np.abs(audio_list[i]).max()\n",
    "\n",
    "    if len(audio_list[i]) < SAMPLE_LENGTH:\n",
    "      padding = SAMPLE_LENGTH - len(audio_list[i])\n",
    "      audio_list[i] = np.pad(audio_list[i], (0, padding), 'constant')\n",
    "\n",
    "  audio_list = np.array(audio_list)\n",
    "except Exception as e:\n",
    "  print('Upload Cancelled')\n",
    "  print(e)"
   ]
  },
  {
   "cell_type": "markdown",
   "metadata": {
    "colab_type": "text",
    "id": "RAT38WckBzAE"
   },
   "source": [
    "\n",
    "## C. データセットを前処理する\n",
    "\n",
    "次に、オーディオをエンコードする必要があります。これはGPU上では比較的速いはずです。オーディオを再合成するための補間（各エンコードの中間点）も作成します。 \n"
   ]
  },
  {
   "cell_type": "code",
   "execution_count": null,
   "metadata": {
    "colab": {},
    "colab_type": "code",
    "id": "e30LDusqBzAF",
    "outputId": "d3fc8e1a-f512-4783-b140-b927961de6bc"
   },
   "outputs": [
    {
     "name": "stdout",
     "output_type": "stream",
     "text": [
      "INFO:tensorflow:Restoring parameters from /content/wavenet-ckpt/model.ckpt-200000\n",
      "Encoded 5 files\n",
      "15 total: 5 reconstructions and 10 interpolations\n"
     ]
    }
   ],
   "source": [
    "#@title Generate Encodings\n",
    "audio = np.array(audio_list)\n",
    "z = fastgen.encode(audio, ckpt_path, SAMPLE_LENGTH)\n",
    "print('Encoded %d files' % z.shape[0])\n",
    "\n",
    "\n",
    "# Start with reconstructions\n",
    "z_list = [z_ for z_ in z]\n",
    "name_list = ['recon_' + name_ for name_ in names]\n",
    "\n",
    "# Add all the mean interpolations\n",
    "n = len(names)\n",
    "for i in range(n - 1):\n",
    "  for j in range(i + 1, n):\n",
    "    new_z = (z[i] + z[j]) / 2.0\n",
    "    new_name = 'interp_' + names[i] + '_X_'+ names[j]\n",
    "    z_list.append(new_z)\n",
    "    name_list.append(new_name)\n",
    "\n",
    "print(\"%d total: %d reconstructions and %d interpolations\" % (len(name_list), n, len(name_list) - n))"
   ]
  },
  {
   "cell_type": "markdown",
   "metadata": {
    "colab_type": "text",
    "id": "AA-qsrNPBzAI"
   },
   "source": [
    "\n",
    "面白いので、オーディオファイルのエンコーディングを見てみましょう。それらはオーディオの圧縮表現ですが、それ自体が何らかの構造を持っています（16の数字、16チャンネルのオーディオのようなもので、16の異なる行があります。色は任意です）。 \n"
   ]
  },
  {
   "cell_type": "code",
   "execution_count": null,
   "metadata": {
    "colab": {},
    "colab_type": "code",
    "id": "a6ELg99SBzAJ",
    "outputId": "4a774acd-18f9-4c4b-dee9-11372d6244c1"
   },
   "outputs": [
    {
     "name": "stdout",
     "output_type": "stream",
     "text": [
      "395058__mustardplug__breakbeat-hiphop-a4-4bar-96bpm\n"
     ]
    },
    {
     "data": {
      "text/html": [
       "<div id=\"id_155\"> </div>"
      ],
      "text/plain": [
       "<IPython.core.display.HTML object>"
      ]
     },
     "metadata": {
      "tags": []
     },
     "output_type": "display_data"
    },
    {
     "data": {
      "image/png": "[encoded data removed]",
      "text/plain": [
       "<matplotlib.figure.Figure at 0x7f8f6fb9ef90>"
      ]
     },
     "metadata": {
      "tags": []
     },
     "output_type": "display_data"
    },
    {
     "data": {
      "image/png": "[encoded data removed]",
      "text/plain": [
       "<matplotlib.figure.Figure at 0x7f8f6fccecd0>"
      ]
     },
     "metadata": {
      "tags": []
     },
     "output_type": "display_data"
    }
   ],
   "source": [
    "#@title Visualize Audio and Encoding { vertical-output: true, run: \"auto\" }\n",
    "SoundFile = 0 #@param {type:\"slider\", min:0, max:10, step:1}\n",
    "file_number = SoundFile\n",
    "\n",
    "try:\n",
    "  print(names[file_number])\n",
    "  play(audio_list[file_number], sample_rate=SR)\n",
    "  # fig, axs = plt.subplots(2, 1, figsize=(12, 10))\n",
    "  plt.figure()\n",
    "  plt.plot(audio_list[file_number])\n",
    "  plt.title('Audio Signal')\n",
    "\n",
    "  plt.figure()\n",
    "  plt.plot(z_list[file_number])\n",
    "  plt.title('NSynth Encoding')\n",
    "except Exception as e:\n",
    "  print e"
   ]
  },
  {
   "cell_type": "markdown",
   "metadata": {},
   "source": [
    "\n",
    "## D. モデルを取得する\n",
    "\n",
    "`環境を準備する` にて、既にモデルを取得済みです。\n"
   ]
  },
  {
   "cell_type": "markdown",
   "metadata": {},
   "source": [
    "## E. モデルを学習させる\n",
    "\n",
    "学習済みモデルを使うため不要です。\n"
   ]
  },
  {
   "cell_type": "markdown",
   "metadata": {
    "colab_type": "text",
    "id": "A_pO90fyBzAN"
   },
   "source": [
    "\n",
    "## F. 学習済みモデルを評価する\n"
   ]
  },
  {
   "cell_type": "markdown",
   "metadata": {},
   "source": [
    "\n",
    "### 1. 音を合成する\n",
    "\n",
    " GPUでは、1秒のオーディオで、1バッチあたり約4分かかります。 \n"
   ]
  },
  {
   "cell_type": "code",
   "execution_count": null,
   "metadata": {
    "colab": {},
    "colab_type": "code",
    "id": "RAQSsL5gBzAN",
    "outputId": "83029aca-90ab-4c5b-d2c6-c1df5fac885b"
   },
   "outputs": [
    {
     "name": "stdout",
     "output_type": "stream",
     "text": [
      "Total Iterations to Complete: 32000\n",
      "\n",
      "INFO:tensorflow:Restoring parameters from /content/wavenet-ckpt/model.ckpt-200000\n",
      "INFO:tensorflow:Sample: 0\n",
      "INFO:tensorflow:Saving: /content/recon_395058__mustardplug__breakbeat-hiphop-a4-4bar-96bpm.wav\n",
      "INFO:tensorflow:Saving: /content/recon_159119__cms4f__flute-play-c-04.wav\n",
      "INFO:tensorflow:Saving: /content/recon_255878__jagadamba__female-voice-whispering-lab-geaks.wav\n",
      "INFO:tensorflow:Saving: /content/recon_60055__juskiddink__cello-loop-2.wav\n",
      "INFO:tensorflow:Saving: /content/recon_418526__audeption__fasching-fanfare-karnevals-tusch-tataa-long.wav\n",
      "INFO:tensorflow:Saving: /content/interp_395058__mustardplug__breakbeat-hiphop-a4-4bar-96bpm_X_159119__cms4f__flute-play-c-04.wav\n",
      "INFO:tensorflow:Saving: /content/interp_395058__mustardplug__breakbeat-hiphop-a4-4bar-96bpm_X_255878__jagadamba__female-voice-whispering-lab-geaks.wav\n",
      "INFO:tensorflow:Saving: /content/interp_395058__mustardplug__breakbeat-hiphop-a4-4bar-96bpm_X_60055__juskiddink__cello-loop-2.wav\n",
      "INFO:tensorflow:Saving: /content/interp_395058__mustardplug__breakbeat-hiphop-a4-4bar-96bpm_X_418526__audeption__fasching-fanfare-karnevals-tusch-tataa-long.wav\n",
      "INFO:tensorflow:Saving: /content/interp_159119__cms4f__flute-play-c-04_X_255878__jagadamba__female-voice-whispering-lab-geaks.wav\n",
      "INFO:tensorflow:Saving: /content/interp_159119__cms4f__flute-play-c-04_X_60055__juskiddink__cello-loop-2.wav\n",
      "INFO:tensorflow:Saving: /content/interp_159119__cms4f__flute-play-c-04_X_418526__audeption__fasching-fanfare-karnevals-tusch-tataa-long.wav\n",
      "INFO:tensorflow:Saving: /content/interp_255878__jagadamba__female-voice-whispering-lab-geaks_X_60055__juskiddink__cello-loop-2.wav\n",
      "INFO:tensorflow:Saving: /content/interp_255878__jagadamba__female-voice-whispering-lab-geaks_X_418526__audeption__fasching-fanfare-karnevals-tusch-tataa-long.wav\n",
      "INFO:tensorflow:Saving: /content/interp_60055__juskiddink__cello-loop-2_X_418526__audeption__fasching-fanfare-karnevals-tusch-tataa-long.wav\n",
      "INFO:tensorflow:Sample: 100\n",
      "INFO:tensorflow:Sample: 200\n",
      "INFO:tensorflow:Sample: 300\n",
      "INFO:tensorflow:Sample: 400\n",
      "INFO:tensorflow:Sample: 500\n",
      "INFO:tensorflow:Sample: 600\n",
      "INFO:tensorflow:Sample: 700\n",
      "INFO:tensorflow:Sample: 800\n",
      "INFO:tensorflow:Sample: 900\n",
      "INFO:tensorflow:Sample: 1000\n",
      "INFO:tensorflow:Sample: 1100\n",
      "INFO:tensorflow:Sample: 1200\n",
      "INFO:tensorflow:Sample: 1300\n",
      "INFO:tensorflow:Sample: 1400\n",
      "INFO:tensorflow:Sample: 1500\n",
      "INFO:tensorflow:Sample: 1600\n",
      "INFO:tensorflow:Sample: 1700\n",
      "INFO:tensorflow:Sample: 1800\n",
      "INFO:tensorflow:Sample: 1900\n",
      "INFO:tensorflow:Sample: 2000\n",
      "INFO:tensorflow:Sample: 2100\n",
      "INFO:tensorflow:Sample: 2200\n",
      "INFO:tensorflow:Sample: 2300\n",
      "INFO:tensorflow:Sample: 2400\n",
      "INFO:tensorflow:Sample: 2500\n",
      "INFO:tensorflow:Sample: 2600\n",
      "INFO:tensorflow:Sample: 2700\n",
      "INFO:tensorflow:Sample: 2800\n",
      "INFO:tensorflow:Sample: 2900\n",
      "INFO:tensorflow:Sample: 3000\n",
      "INFO:tensorflow:Sample: 3100\n",
      "INFO:tensorflow:Sample: 3200\n",
      "INFO:tensorflow:Saving: /content/recon_395058__mustardplug__breakbeat-hiphop-a4-4bar-96bpm.wav\n",
      "INFO:tensorflow:Saving: /content/recon_159119__cms4f__flute-play-c-04.wav\n",
      "INFO:tensorflow:Saving: /content/recon_255878__jagadamba__female-voice-whispering-lab-geaks.wav\n",
      "INFO:tensorflow:Saving: /content/recon_60055__juskiddink__cello-loop-2.wav\n",
      "INFO:tensorflow:Saving: /content/recon_418526__audeption__fasching-fanfare-karnevals-tusch-tataa-long.wav\n",
      "INFO:tensorflow:Saving: /content/interp_395058__mustardplug__breakbeat-hiphop-a4-4bar-96bpm_X_159119__cms4f__flute-play-c-04.wav\n",
      "INFO:tensorflow:Saving: /content/interp_395058__mustardplug__breakbeat-hiphop-a4-4bar-96bpm_X_255878__jagadamba__female-voice-whispering-lab-geaks.wav\n",
      "INFO:tensorflow:Saving: /content/interp_395058__mustardplug__breakbeat-hiphop-a4-4bar-96bpm_X_60055__juskiddink__cello-loop-2.wav\n",
      "INFO:tensorflow:Saving: /content/interp_395058__mustardplug__breakbeat-hiphop-a4-4bar-96bpm_X_418526__audeption__fasching-fanfare-karnevals-tusch-tataa-long.wav\n",
      "INFO:tensorflow:Saving: /content/interp_159119__cms4f__flute-play-c-04_X_255878__jagadamba__female-voice-whispering-lab-geaks.wav\n",
      "INFO:tensorflow:Saving: /content/interp_159119__cms4f__flute-play-c-04_X_60055__juskiddink__cello-loop-2.wav\n",
      "INFO:tensorflow:Saving: /content/interp_159119__cms4f__flute-play-c-04_X_418526__audeption__fasching-fanfare-karnevals-tusch-tataa-long.wav\n",
      "INFO:tensorflow:Saving: /content/interp_255878__jagadamba__female-voice-whispering-lab-geaks_X_60055__juskiddink__cello-loop-2.wav\n",
      "INFO:tensorflow:Saving: /content/interp_255878__jagadamba__female-voice-whispering-lab-geaks_X_418526__audeption__fasching-fanfare-karnevals-tusch-tataa-long.wav\n",
      "INFO:tensorflow:Saving: /content/interp_60055__juskiddink__cello-loop-2_X_418526__audeption__fasching-fanfare-karnevals-tusch-tataa-long.wav\n",
      "INFO:tensorflow:Sample: 3300\n",
      "INFO:tensorflow:Sample: 3400\n",
      "INFO:tensorflow:Sample: 3500\n",
      "INFO:tensorflow:Sample: 3600\n",
      "INFO:tensorflow:Sample: 3700\n",
      "INFO:tensorflow:Sample: 3800\n",
      "INFO:tensorflow:Sample: 3900\n",
      "INFO:tensorflow:Sample: 4000\n",
      "INFO:tensorflow:Sample: 4100\n",
      "INFO:tensorflow:Sample: 4200\n",
      "INFO:tensorflow:Sample: 4300\n",
      "INFO:tensorflow:Sample: 4400\n",
      "INFO:tensorflow:Sample: 4500\n",
      "INFO:tensorflow:Sample: 4600\n",
      "INFO:tensorflow:Sample: 4700\n",
      "INFO:tensorflow:Sample: 4800\n",
      "INFO:tensorflow:Sample: 4900\n",
      "INFO:tensorflow:Sample: 5000\n",
      "INFO:tensorflow:Sample: 5100\n",
      "INFO:tensorflow:Sample: 5200\n",
      "INFO:tensorflow:Sample: 5300\n",
      "INFO:tensorflow:Sample: 5400\n",
      "INFO:tensorflow:Sample: 5500\n",
      "INFO:tensorflow:Sample: 5600\n",
      "INFO:tensorflow:Sample: 5700\n",
      "INFO:tensorflow:Sample: 5800\n",
      "INFO:tensorflow:Sample: 5900\n",
      "INFO:tensorflow:Sample: 6000\n",
      "INFO:tensorflow:Sample: 6100\n",
      "INFO:tensorflow:Sample: 6200\n",
      "INFO:tensorflow:Sample: 6300\n",
      "INFO:tensorflow:Sample: 6400\n",
      "INFO:tensorflow:Saving: /content/recon_395058__mustardplug__breakbeat-hiphop-a4-4bar-96bpm.wav\n",
      "INFO:tensorflow:Saving: /content/recon_159119__cms4f__flute-play-c-04.wav\n",
      "INFO:tensorflow:Saving: /content/recon_255878__jagadamba__female-voice-whispering-lab-geaks.wav\n",
      "INFO:tensorflow:Saving: /content/recon_60055__juskiddink__cello-loop-2.wav\n",
      "INFO:tensorflow:Saving: /content/recon_418526__audeption__fasching-fanfare-karnevals-tusch-tataa-long.wav\n",
      "INFO:tensorflow:Saving: /content/interp_395058__mustardplug__breakbeat-hiphop-a4-4bar-96bpm_X_159119__cms4f__flute-play-c-04.wav\n",
      "INFO:tensorflow:Saving: /content/interp_395058__mustardplug__breakbeat-hiphop-a4-4bar-96bpm_X_255878__jagadamba__female-voice-whispering-lab-geaks.wav\n",
      "INFO:tensorflow:Saving: /content/interp_395058__mustardplug__breakbeat-hiphop-a4-4bar-96bpm_X_60055__juskiddink__cello-loop-2.wav\n",
      "INFO:tensorflow:Saving: /content/interp_395058__mustardplug__breakbeat-hiphop-a4-4bar-96bpm_X_418526__audeption__fasching-fanfare-karnevals-tusch-tataa-long.wav\n",
      "INFO:tensorflow:Saving: /content/interp_159119__cms4f__flute-play-c-04_X_255878__jagadamba__female-voice-whispering-lab-geaks.wav\n",
      "INFO:tensorflow:Saving: /content/interp_159119__cms4f__flute-play-c-04_X_60055__juskiddink__cello-loop-2.wav\n",
      "INFO:tensorflow:Saving: /content/interp_159119__cms4f__flute-play-c-04_X_418526__audeption__fasching-fanfare-karnevals-tusch-tataa-long.wav\n",
      "INFO:tensorflow:Saving: /content/interp_255878__jagadamba__female-voice-whispering-lab-geaks_X_60055__juskiddink__cello-loop-2.wav\n",
      "INFO:tensorflow:Saving: /content/interp_255878__jagadamba__female-voice-whispering-lab-geaks_X_418526__audeption__fasching-fanfare-karnevals-tusch-tataa-long.wav\n",
      "INFO:tensorflow:Saving: /content/interp_60055__juskiddink__cello-loop-2_X_418526__audeption__fasching-fanfare-karnevals-tusch-tataa-long.wav\n",
      "INFO:tensorflow:Sample: 6500\n",
      "INFO:tensorflow:Sample: 6600\n",
      "INFO:tensorflow:Sample: 6700\n",
      "INFO:tensorflow:Sample: 6800\n",
      "INFO:tensorflow:Sample: 6900\n",
      "INFO:tensorflow:Sample: 7000\n",
      "INFO:tensorflow:Sample: 7100\n",
      "INFO:tensorflow:Sample: 7200\n",
      "INFO:tensorflow:Sample: 7300\n",
      "INFO:tensorflow:Sample: 7400\n",
      "INFO:tensorflow:Sample: 7500\n",
      "INFO:tensorflow:Sample: 7600\n",
      "INFO:tensorflow:Sample: 7700\n",
      "INFO:tensorflow:Sample: 7800\n",
      "INFO:tensorflow:Sample: 7900\n",
      "INFO:tensorflow:Sample: 8000\n",
      "INFO:tensorflow:Sample: 8100\n",
      "INFO:tensorflow:Sample: 8200\n",
      "INFO:tensorflow:Sample: 8300\n",
      "INFO:tensorflow:Sample: 8400\n",
      "INFO:tensorflow:Sample: 8500\n",
      "INFO:tensorflow:Sample: 8600\n",
      "INFO:tensorflow:Sample: 8700\n",
      "INFO:tensorflow:Sample: 8800\n",
      "INFO:tensorflow:Sample: 8900\n",
      "INFO:tensorflow:Sample: 9000\n",
      "INFO:tensorflow:Sample: 9100\n",
      "INFO:tensorflow:Sample: 9200\n",
      "INFO:tensorflow:Sample: 9300\n",
      "INFO:tensorflow:Sample: 9400\n",
      "INFO:tensorflow:Sample: 9500\n",
      "INFO:tensorflow:Sample: 9600\n",
      "INFO:tensorflow:Saving: /content/recon_395058__mustardplug__breakbeat-hiphop-a4-4bar-96bpm.wav\n",
      "INFO:tensorflow:Saving: /content/recon_159119__cms4f__flute-play-c-04.wav\n",
      "INFO:tensorflow:Saving: /content/recon_255878__jagadamba__female-voice-whispering-lab-geaks.wav\n",
      "INFO:tensorflow:Saving: /content/recon_60055__juskiddink__cello-loop-2.wav\n",
      "INFO:tensorflow:Saving: /content/recon_418526__audeption__fasching-fanfare-karnevals-tusch-tataa-long.wav\n",
      "INFO:tensorflow:Saving: /content/interp_395058__mustardplug__breakbeat-hiphop-a4-4bar-96bpm_X_159119__cms4f__flute-play-c-04.wav\n",
      "INFO:tensorflow:Saving: /content/interp_395058__mustardplug__breakbeat-hiphop-a4-4bar-96bpm_X_255878__jagadamba__female-voice-whispering-lab-geaks.wav\n",
      "INFO:tensorflow:Saving: /content/interp_395058__mustardplug__breakbeat-hiphop-a4-4bar-96bpm_X_60055__juskiddink__cello-loop-2.wav\n",
      "INFO:tensorflow:Saving: /content/interp_395058__mustardplug__breakbeat-hiphop-a4-4bar-96bpm_X_418526__audeption__fasching-fanfare-karnevals-tusch-tataa-long.wav\n",
      "INFO:tensorflow:Saving: /content/interp_159119__cms4f__flute-play-c-04_X_255878__jagadamba__female-voice-whispering-lab-geaks.wav\n",
      "INFO:tensorflow:Saving: /content/interp_159119__cms4f__flute-play-c-04_X_60055__juskiddink__cello-loop-2.wav\n",
      "INFO:tensorflow:Saving: /content/interp_159119__cms4f__flute-play-c-04_X_418526__audeption__fasching-fanfare-karnevals-tusch-tataa-long.wav\n",
      "INFO:tensorflow:Saving: /content/interp_255878__jagadamba__female-voice-whispering-lab-geaks_X_60055__juskiddink__cello-loop-2.wav\n",
      "INFO:tensorflow:Saving: /content/interp_255878__jagadamba__female-voice-whispering-lab-geaks_X_418526__audeption__fasching-fanfare-karnevals-tusch-tataa-long.wav\n",
      "INFO:tensorflow:Saving: /content/interp_60055__juskiddink__cello-loop-2_X_418526__audeption__fasching-fanfare-karnevals-tusch-tataa-long.wav\n",
      "INFO:tensorflow:Sample: 9700\n",
      "INFO:tensorflow:Sample: 9800\n",
      "INFO:tensorflow:Sample: 9900\n",
      "INFO:tensorflow:Sample: 10000\n",
      "INFO:tensorflow:Sample: 10100\n",
      "INFO:tensorflow:Sample: 10200\n",
      "INFO:tensorflow:Sample: 10300\n",
      "INFO:tensorflow:Sample: 10400\n",
      "INFO:tensorflow:Sample: 10500\n",
      "INFO:tensorflow:Sample: 10600\n",
      "INFO:tensorflow:Sample: 10700\n",
      "INFO:tensorflow:Sample: 10800\n",
      "INFO:tensorflow:Sample: 10900\n",
      "INFO:tensorflow:Sample: 11000\n",
      "INFO:tensorflow:Sample: 11100\n",
      "INFO:tensorflow:Sample: 11200\n",
      "INFO:tensorflow:Sample: 11300\n",
      "INFO:tensorflow:Sample: 11400\n",
      "INFO:tensorflow:Sample: 11500\n",
      "INFO:tensorflow:Sample: 11600\n",
      "INFO:tensorflow:Sample: 11700\n",
      "INFO:tensorflow:Sample: 11800\n",
      "INFO:tensorflow:Sample: 11900\n",
      "INFO:tensorflow:Sample: 12000\n",
      "INFO:tensorflow:Sample: 12100\n",
      "INFO:tensorflow:Sample: 12200\n",
      "INFO:tensorflow:Sample: 12300\n",
      "INFO:tensorflow:Sample: 12400\n",
      "INFO:tensorflow:Sample: 12500\n",
      "INFO:tensorflow:Sample: 12600\n",
      "INFO:tensorflow:Sample: 12700\n",
      "INFO:tensorflow:Sample: 12800\n",
      "INFO:tensorflow:Saving: /content/recon_395058__mustardplug__breakbeat-hiphop-a4-4bar-96bpm.wav\n",
      "INFO:tensorflow:Saving: /content/recon_159119__cms4f__flute-play-c-04.wav\n",
      "INFO:tensorflow:Saving: /content/recon_255878__jagadamba__female-voice-whispering-lab-geaks.wav\n",
      "INFO:tensorflow:Saving: /content/recon_60055__juskiddink__cello-loop-2.wav\n",
      "INFO:tensorflow:Saving: /content/recon_418526__audeption__fasching-fanfare-karnevals-tusch-tataa-long.wav\n",
      "INFO:tensorflow:Saving: /content/interp_395058__mustardplug__breakbeat-hiphop-a4-4bar-96bpm_X_159119__cms4f__flute-play-c-04.wav\n",
      "INFO:tensorflow:Saving: /content/interp_395058__mustardplug__breakbeat-hiphop-a4-4bar-96bpm_X_255878__jagadamba__female-voice-whispering-lab-geaks.wav\n",
      "INFO:tensorflow:Saving: /content/interp_395058__mustardplug__breakbeat-hiphop-a4-4bar-96bpm_X_60055__juskiddink__cello-loop-2.wav\n",
      "INFO:tensorflow:Saving: /content/interp_395058__mustardplug__breakbeat-hiphop-a4-4bar-96bpm_X_418526__audeption__fasching-fanfare-karnevals-tusch-tataa-long.wav\n",
      "INFO:tensorflow:Saving: /content/interp_159119__cms4f__flute-play-c-04_X_255878__jagadamba__female-voice-whispering-lab-geaks.wav\n",
      "INFO:tensorflow:Saving: /content/interp_159119__cms4f__flute-play-c-04_X_60055__juskiddink__cello-loop-2.wav\n",
      "INFO:tensorflow:Saving: /content/interp_159119__cms4f__flute-play-c-04_X_418526__audeption__fasching-fanfare-karnevals-tusch-tataa-long.wav\n",
      "INFO:tensorflow:Saving: /content/interp_255878__jagadamba__female-voice-whispering-lab-geaks_X_60055__juskiddink__cello-loop-2.wav\n",
      "INFO:tensorflow:Saving: /content/interp_255878__jagadamba__female-voice-whispering-lab-geaks_X_418526__audeption__fasching-fanfare-karnevals-tusch-tataa-long.wav\n",
      "INFO:tensorflow:Saving: /content/interp_60055__juskiddink__cello-loop-2_X_418526__audeption__fasching-fanfare-karnevals-tusch-tataa-long.wav\n",
      "INFO:tensorflow:Sample: 12900\n",
      "INFO:tensorflow:Sample: 13000\n",
      "INFO:tensorflow:Sample: 13100\n",
      "INFO:tensorflow:Sample: 13200\n",
      "INFO:tensorflow:Sample: 13300\n",
      "INFO:tensorflow:Sample: 13400\n",
      "INFO:tensorflow:Sample: 13500\n",
      "INFO:tensorflow:Sample: 13600\n",
      "INFO:tensorflow:Sample: 13700\n",
      "INFO:tensorflow:Sample: 13800\n",
      "INFO:tensorflow:Sample: 13900\n",
      "INFO:tensorflow:Sample: 14000\n",
      "INFO:tensorflow:Sample: 14100\n",
      "INFO:tensorflow:Sample: 14200\n",
      "INFO:tensorflow:Sample: 14300\n",
      "INFO:tensorflow:Sample: 14400\n",
      "INFO:tensorflow:Sample: 14500\n",
      "INFO:tensorflow:Sample: 14600\n",
      "INFO:tensorflow:Sample: 14700\n",
      "INFO:tensorflow:Sample: 14800\n",
      "INFO:tensorflow:Sample: 14900\n",
      "INFO:tensorflow:Sample: 15000\n",
      "INFO:tensorflow:Sample: 15100\n",
      "INFO:tensorflow:Sample: 15200\n",
      "INFO:tensorflow:Sample: 15300\n",
      "INFO:tensorflow:Sample: 15400\n",
      "INFO:tensorflow:Sample: 15500\n",
      "INFO:tensorflow:Sample: 15600\n",
      "INFO:tensorflow:Sample: 15700\n",
      "INFO:tensorflow:Sample: 15800\n",
      "INFO:tensorflow:Sample: 15900\n",
      "INFO:tensorflow:Sample: 16000\n",
      "INFO:tensorflow:Saving: /content/recon_395058__mustardplug__breakbeat-hiphop-a4-4bar-96bpm.wav\n",
      "INFO:tensorflow:Saving: /content/recon_159119__cms4f__flute-play-c-04.wav\n",
      "INFO:tensorflow:Saving: /content/recon_255878__jagadamba__female-voice-whispering-lab-geaks.wav\n",
      "INFO:tensorflow:Saving: /content/recon_60055__juskiddink__cello-loop-2.wav\n",
      "INFO:tensorflow:Saving: /content/recon_418526__audeption__fasching-fanfare-karnevals-tusch-tataa-long.wav\n",
      "INFO:tensorflow:Saving: /content/interp_395058__mustardplug__breakbeat-hiphop-a4-4bar-96bpm_X_159119__cms4f__flute-play-c-04.wav\n",
      "INFO:tensorflow:Saving: /content/interp_395058__mustardplug__breakbeat-hiphop-a4-4bar-96bpm_X_255878__jagadamba__female-voice-whispering-lab-geaks.wav\n",
      "INFO:tensorflow:Saving: /content/interp_395058__mustardplug__breakbeat-hiphop-a4-4bar-96bpm_X_60055__juskiddink__cello-loop-2.wav\n",
      "INFO:tensorflow:Saving: /content/interp_395058__mustardplug__breakbeat-hiphop-a4-4bar-96bpm_X_418526__audeption__fasching-fanfare-karnevals-tusch-tataa-long.wav\n",
      "INFO:tensorflow:Saving: /content/interp_159119__cms4f__flute-play-c-04_X_255878__jagadamba__female-voice-whispering-lab-geaks.wav\n",
      "INFO:tensorflow:Saving: /content/interp_159119__cms4f__flute-play-c-04_X_60055__juskiddink__cello-loop-2.wav\n",
      "INFO:tensorflow:Saving: /content/interp_159119__cms4f__flute-play-c-04_X_418526__audeption__fasching-fanfare-karnevals-tusch-tataa-long.wav\n",
      "INFO:tensorflow:Saving: /content/interp_255878__jagadamba__female-voice-whispering-lab-geaks_X_60055__juskiddink__cello-loop-2.wav\n",
      "INFO:tensorflow:Saving: /content/interp_255878__jagadamba__female-voice-whispering-lab-geaks_X_418526__audeption__fasching-fanfare-karnevals-tusch-tataa-long.wav\n",
      "INFO:tensorflow:Saving: /content/interp_60055__juskiddink__cello-loop-2_X_418526__audeption__fasching-fanfare-karnevals-tusch-tataa-long.wav\n",
      "INFO:tensorflow:Sample: 16100\n",
      "INFO:tensorflow:Sample: 16200\n",
      "INFO:tensorflow:Sample: 16300\n",
      "INFO:tensorflow:Sample: 16400\n",
      "INFO:tensorflow:Sample: 16500\n",
      "INFO:tensorflow:Sample: 16600\n",
      "INFO:tensorflow:Sample: 16700\n",
      "INFO:tensorflow:Sample: 16800\n",
      "INFO:tensorflow:Sample: 16900\n",
      "INFO:tensorflow:Sample: 17000\n",
      "INFO:tensorflow:Sample: 17100\n",
      "INFO:tensorflow:Sample: 17200\n",
      "INFO:tensorflow:Sample: 17300\n",
      "INFO:tensorflow:Sample: 17400\n",
      "INFO:tensorflow:Sample: 17500\n",
      "INFO:tensorflow:Sample: 17600\n",
      "INFO:tensorflow:Sample: 17700\n",
      "INFO:tensorflow:Sample: 17800\n",
      "INFO:tensorflow:Sample: 17900\n",
      "INFO:tensorflow:Sample: 18000\n",
      "INFO:tensorflow:Sample: 18100\n",
      "INFO:tensorflow:Sample: 18200\n",
      "INFO:tensorflow:Sample: 18300\n",
      "INFO:tensorflow:Sample: 18400\n",
      "INFO:tensorflow:Sample: 18500\n",
      "INFO:tensorflow:Sample: 18600\n",
      "INFO:tensorflow:Sample: 18700\n",
      "INFO:tensorflow:Sample: 18800\n",
      "INFO:tensorflow:Sample: 18900\n",
      "INFO:tensorflow:Sample: 19000\n",
      "INFO:tensorflow:Sample: 19100\n",
      "INFO:tensorflow:Sample: 19200\n",
      "INFO:tensorflow:Saving: /content/recon_395058__mustardplug__breakbeat-hiphop-a4-4bar-96bpm.wav\n",
      "INFO:tensorflow:Saving: /content/recon_159119__cms4f__flute-play-c-04.wav\n",
      "INFO:tensorflow:Saving: /content/recon_255878__jagadamba__female-voice-whispering-lab-geaks.wav\n",
      "INFO:tensorflow:Saving: /content/recon_60055__juskiddink__cello-loop-2.wav\n",
      "INFO:tensorflow:Saving: /content/recon_418526__audeption__fasching-fanfare-karnevals-tusch-tataa-long.wav\n",
      "INFO:tensorflow:Saving: /content/interp_395058__mustardplug__breakbeat-hiphop-a4-4bar-96bpm_X_159119__cms4f__flute-play-c-04.wav\n",
      "INFO:tensorflow:Saving: /content/interp_395058__mustardplug__breakbeat-hiphop-a4-4bar-96bpm_X_255878__jagadamba__female-voice-whispering-lab-geaks.wav\n",
      "INFO:tensorflow:Saving: /content/interp_395058__mustardplug__breakbeat-hiphop-a4-4bar-96bpm_X_60055__juskiddink__cello-loop-2.wav\n",
      "INFO:tensorflow:Saving: /content/interp_395058__mustardplug__breakbeat-hiphop-a4-4bar-96bpm_X_418526__audeption__fasching-fanfare-karnevals-tusch-tataa-long.wav\n",
      "INFO:tensorflow:Saving: /content/interp_159119__cms4f__flute-play-c-04_X_255878__jagadamba__female-voice-whispering-lab-geaks.wav\n",
      "INFO:tensorflow:Saving: /content/interp_159119__cms4f__flute-play-c-04_X_60055__juskiddink__cello-loop-2.wav\n",
      "INFO:tensorflow:Saving: /content/interp_159119__cms4f__flute-play-c-04_X_418526__audeption__fasching-fanfare-karnevals-tusch-tataa-long.wav\n",
      "INFO:tensorflow:Saving: /content/interp_255878__jagadamba__female-voice-whispering-lab-geaks_X_60055__juskiddink__cello-loop-2.wav\n",
      "INFO:tensorflow:Saving: /content/interp_255878__jagadamba__female-voice-whispering-lab-geaks_X_418526__audeption__fasching-fanfare-karnevals-tusch-tataa-long.wav\n",
      "INFO:tensorflow:Saving: /content/interp_60055__juskiddink__cello-loop-2_X_418526__audeption__fasching-fanfare-karnevals-tusch-tataa-long.wav\n",
      "INFO:tensorflow:Sample: 19300\n",
      "INFO:tensorflow:Sample: 19400\n",
      "INFO:tensorflow:Sample: 19500\n",
      "INFO:tensorflow:Sample: 19600\n",
      "INFO:tensorflow:Sample: 19700\n",
      "INFO:tensorflow:Sample: 19800\n",
      "INFO:tensorflow:Sample: 19900\n",
      "INFO:tensorflow:Sample: 20000\n",
      "INFO:tensorflow:Sample: 20100\n",
      "INFO:tensorflow:Sample: 20200\n",
      "INFO:tensorflow:Sample: 20300\n",
      "INFO:tensorflow:Sample: 20400\n",
      "INFO:tensorflow:Sample: 20500\n",
      "INFO:tensorflow:Sample: 20600\n",
      "INFO:tensorflow:Sample: 20700\n",
      "INFO:tensorflow:Sample: 20800\n",
      "INFO:tensorflow:Sample: 20900\n",
      "INFO:tensorflow:Sample: 21000\n",
      "INFO:tensorflow:Sample: 21100\n",
      "INFO:tensorflow:Sample: 21200\n",
      "INFO:tensorflow:Sample: 21300\n",
      "INFO:tensorflow:Sample: 21400\n",
      "INFO:tensorflow:Sample: 21500\n",
      "INFO:tensorflow:Sample: 21600\n",
      "INFO:tensorflow:Sample: 21700\n",
      "INFO:tensorflow:Sample: 21800\n",
      "INFO:tensorflow:Sample: 21900\n",
      "INFO:tensorflow:Sample: 22000\n",
      "INFO:tensorflow:Sample: 22100\n",
      "INFO:tensorflow:Sample: 22200\n",
      "INFO:tensorflow:Sample: 22300\n",
      "INFO:tensorflow:Sample: 22400\n",
      "INFO:tensorflow:Saving: /content/recon_395058__mustardplug__breakbeat-hiphop-a4-4bar-96bpm.wav\n",
      "INFO:tensorflow:Saving: /content/recon_159119__cms4f__flute-play-c-04.wav\n",
      "INFO:tensorflow:Saving: /content/recon_255878__jagadamba__female-voice-whispering-lab-geaks.wav\n",
      "INFO:tensorflow:Saving: /content/recon_60055__juskiddink__cello-loop-2.wav\n",
      "INFO:tensorflow:Saving: /content/recon_418526__audeption__fasching-fanfare-karnevals-tusch-tataa-long.wav\n",
      "INFO:tensorflow:Saving: /content/interp_395058__mustardplug__breakbeat-hiphop-a4-4bar-96bpm_X_159119__cms4f__flute-play-c-04.wav\n",
      "INFO:tensorflow:Saving: /content/interp_395058__mustardplug__breakbeat-hiphop-a4-4bar-96bpm_X_255878__jagadamba__female-voice-whispering-lab-geaks.wav\n",
      "INFO:tensorflow:Saving: /content/interp_395058__mustardplug__breakbeat-hiphop-a4-4bar-96bpm_X_60055__juskiddink__cello-loop-2.wav\n",
      "INFO:tensorflow:Saving: /content/interp_395058__mustardplug__breakbeat-hiphop-a4-4bar-96bpm_X_418526__audeption__fasching-fanfare-karnevals-tusch-tataa-long.wav\n",
      "INFO:tensorflow:Saving: /content/interp_159119__cms4f__flute-play-c-04_X_255878__jagadamba__female-voice-whispering-lab-geaks.wav\n",
      "INFO:tensorflow:Saving: /content/interp_159119__cms4f__flute-play-c-04_X_60055__juskiddink__cello-loop-2.wav\n",
      "INFO:tensorflow:Saving: /content/interp_159119__cms4f__flute-play-c-04_X_418526__audeption__fasching-fanfare-karnevals-tusch-tataa-long.wav\n",
      "INFO:tensorflow:Saving: /content/interp_255878__jagadamba__female-voice-whispering-lab-geaks_X_60055__juskiddink__cello-loop-2.wav\n",
      "INFO:tensorflow:Saving: /content/interp_255878__jagadamba__female-voice-whispering-lab-geaks_X_418526__audeption__fasching-fanfare-karnevals-tusch-tataa-long.wav\n",
      "INFO:tensorflow:Saving: /content/interp_60055__juskiddink__cello-loop-2_X_418526__audeption__fasching-fanfare-karnevals-tusch-tataa-long.wav\n",
      "INFO:tensorflow:Sample: 22500\n",
      "INFO:tensorflow:Sample: 22600\n",
      "INFO:tensorflow:Sample: 22700\n",
      "INFO:tensorflow:Sample: 22800\n",
      "INFO:tensorflow:Sample: 22900\n",
      "INFO:tensorflow:Sample: 23000\n",
      "INFO:tensorflow:Sample: 23100\n",
      "INFO:tensorflow:Sample: 23200\n",
      "INFO:tensorflow:Sample: 23300\n",
      "INFO:tensorflow:Sample: 23400\n",
      "INFO:tensorflow:Sample: 23500\n",
      "INFO:tensorflow:Sample: 23600\n",
      "INFO:tensorflow:Sample: 23700\n",
      "INFO:tensorflow:Sample: 23800\n",
      "INFO:tensorflow:Sample: 23900\n",
      "INFO:tensorflow:Sample: 24000\n",
      "INFO:tensorflow:Sample: 24100\n",
      "INFO:tensorflow:Sample: 24200\n",
      "INFO:tensorflow:Sample: 24300\n",
      "INFO:tensorflow:Sample: 24400\n",
      "INFO:tensorflow:Sample: 24500\n",
      "INFO:tensorflow:Sample: 24600\n",
      "INFO:tensorflow:Sample: 24700\n",
      "INFO:tensorflow:Sample: 24800\n",
      "INFO:tensorflow:Sample: 24900\n",
      "INFO:tensorflow:Sample: 25000\n",
      "INFO:tensorflow:Sample: 25100\n",
      "INFO:tensorflow:Sample: 25200\n",
      "INFO:tensorflow:Sample: 25300\n",
      "INFO:tensorflow:Sample: 25400\n",
      "INFO:tensorflow:Sample: 25500\n",
      "INFO:tensorflow:Sample: 25600\n",
      "INFO:tensorflow:Saving: /content/recon_395058__mustardplug__breakbeat-hiphop-a4-4bar-96bpm.wav\n",
      "INFO:tensorflow:Saving: /content/recon_159119__cms4f__flute-play-c-04.wav\n",
      "INFO:tensorflow:Saving: /content/recon_255878__jagadamba__female-voice-whispering-lab-geaks.wav\n",
      "INFO:tensorflow:Saving: /content/recon_60055__juskiddink__cello-loop-2.wav\n",
      "INFO:tensorflow:Saving: /content/recon_418526__audeption__fasching-fanfare-karnevals-tusch-tataa-long.wav\n",
      "INFO:tensorflow:Saving: /content/interp_395058__mustardplug__breakbeat-hiphop-a4-4bar-96bpm_X_159119__cms4f__flute-play-c-04.wav\n",
      "INFO:tensorflow:Saving: /content/interp_395058__mustardplug__breakbeat-hiphop-a4-4bar-96bpm_X_255878__jagadamba__female-voice-whispering-lab-geaks.wav\n",
      "INFO:tensorflow:Saving: /content/interp_395058__mustardplug__breakbeat-hiphop-a4-4bar-96bpm_X_60055__juskiddink__cello-loop-2.wav\n",
      "INFO:tensorflow:Saving: /content/interp_395058__mustardplug__breakbeat-hiphop-a4-4bar-96bpm_X_418526__audeption__fasching-fanfare-karnevals-tusch-tataa-long.wav\n",
      "INFO:tensorflow:Saving: /content/interp_159119__cms4f__flute-play-c-04_X_255878__jagadamba__female-voice-whispering-lab-geaks.wav\n",
      "INFO:tensorflow:Saving: /content/interp_159119__cms4f__flute-play-c-04_X_60055__juskiddink__cello-loop-2.wav\n",
      "INFO:tensorflow:Saving: /content/interp_159119__cms4f__flute-play-c-04_X_418526__audeption__fasching-fanfare-karnevals-tusch-tataa-long.wav\n",
      "INFO:tensorflow:Saving: /content/interp_255878__jagadamba__female-voice-whispering-lab-geaks_X_60055__juskiddink__cello-loop-2.wav\n",
      "INFO:tensorflow:Saving: /content/interp_255878__jagadamba__female-voice-whispering-lab-geaks_X_418526__audeption__fasching-fanfare-karnevals-tusch-tataa-long.wav\n",
      "INFO:tensorflow:Saving: /content/interp_60055__juskiddink__cello-loop-2_X_418526__audeption__fasching-fanfare-karnevals-tusch-tataa-long.wav\n",
      "INFO:tensorflow:Sample: 25700\n",
      "INFO:tensorflow:Sample: 25800\n",
      "INFO:tensorflow:Sample: 25900\n",
      "INFO:tensorflow:Sample: 26000\n",
      "INFO:tensorflow:Sample: 26100\n",
      "INFO:tensorflow:Sample: 26200\n",
      "INFO:tensorflow:Sample: 26300\n",
      "INFO:tensorflow:Sample: 26400\n",
      "INFO:tensorflow:Sample: 26500\n",
      "INFO:tensorflow:Sample: 26600\n",
      "INFO:tensorflow:Sample: 26700\n",
      "INFO:tensorflow:Sample: 26800\n",
      "INFO:tensorflow:Sample: 26900\n",
      "INFO:tensorflow:Sample: 27000\n",
      "INFO:tensorflow:Sample: 27100\n",
      "INFO:tensorflow:Sample: 27200\n",
      "INFO:tensorflow:Sample: 27300\n",
      "INFO:tensorflow:Sample: 27400\n",
      "INFO:tensorflow:Sample: 27500\n",
      "INFO:tensorflow:Sample: 27600\n",
      "INFO:tensorflow:Sample: 27700\n",
      "INFO:tensorflow:Sample: 27800\n",
      "INFO:tensorflow:Sample: 27900\n",
      "INFO:tensorflow:Sample: 28000\n",
      "INFO:tensorflow:Sample: 28100\n",
      "INFO:tensorflow:Sample: 28200\n",
      "INFO:tensorflow:Sample: 28300\n",
      "INFO:tensorflow:Sample: 28400\n",
      "INFO:tensorflow:Sample: 28500\n",
      "INFO:tensorflow:Sample: 28600\n",
      "INFO:tensorflow:Sample: 28700\n",
      "INFO:tensorflow:Sample: 28800\n",
      "INFO:tensorflow:Saving: /content/recon_395058__mustardplug__breakbeat-hiphop-a4-4bar-96bpm.wav\n",
      "INFO:tensorflow:Saving: /content/recon_159119__cms4f__flute-play-c-04.wav\n",
      "INFO:tensorflow:Saving: /content/recon_255878__jagadamba__female-voice-whispering-lab-geaks.wav\n",
      "INFO:tensorflow:Saving: /content/recon_60055__juskiddink__cello-loop-2.wav\n",
      "INFO:tensorflow:Saving: /content/recon_418526__audeption__fasching-fanfare-karnevals-tusch-tataa-long.wav\n",
      "INFO:tensorflow:Saving: /content/interp_395058__mustardplug__breakbeat-hiphop-a4-4bar-96bpm_X_159119__cms4f__flute-play-c-04.wav\n",
      "INFO:tensorflow:Saving: /content/interp_395058__mustardplug__breakbeat-hiphop-a4-4bar-96bpm_X_255878__jagadamba__female-voice-whispering-lab-geaks.wav\n",
      "INFO:tensorflow:Saving: /content/interp_395058__mustardplug__breakbeat-hiphop-a4-4bar-96bpm_X_60055__juskiddink__cello-loop-2.wav\n",
      "INFO:tensorflow:Saving: /content/interp_395058__mustardplug__breakbeat-hiphop-a4-4bar-96bpm_X_418526__audeption__fasching-fanfare-karnevals-tusch-tataa-long.wav\n",
      "INFO:tensorflow:Saving: /content/interp_159119__cms4f__flute-play-c-04_X_255878__jagadamba__female-voice-whispering-lab-geaks.wav\n",
      "INFO:tensorflow:Saving: /content/interp_159119__cms4f__flute-play-c-04_X_60055__juskiddink__cello-loop-2.wav\n",
      "INFO:tensorflow:Saving: /content/interp_159119__cms4f__flute-play-c-04_X_418526__audeption__fasching-fanfare-karnevals-tusch-tataa-long.wav\n",
      "INFO:tensorflow:Saving: /content/interp_255878__jagadamba__female-voice-whispering-lab-geaks_X_60055__juskiddink__cello-loop-2.wav\n",
      "INFO:tensorflow:Saving: /content/interp_255878__jagadamba__female-voice-whispering-lab-geaks_X_418526__audeption__fasching-fanfare-karnevals-tusch-tataa-long.wav\n",
      "INFO:tensorflow:Saving: /content/interp_60055__juskiddink__cello-loop-2_X_418526__audeption__fasching-fanfare-karnevals-tusch-tataa-long.wav\n",
      "INFO:tensorflow:Sample: 28900\n",
      "INFO:tensorflow:Sample: 29000\n",
      "INFO:tensorflow:Sample: 29100\n",
      "INFO:tensorflow:Sample: 29200\n",
      "INFO:tensorflow:Sample: 29300\n",
      "INFO:tensorflow:Sample: 29400\n",
      "INFO:tensorflow:Sample: 29500\n",
      "INFO:tensorflow:Sample: 29600\n",
      "INFO:tensorflow:Sample: 29700\n",
      "INFO:tensorflow:Sample: 29800\n",
      "INFO:tensorflow:Sample: 29900\n",
      "INFO:tensorflow:Sample: 30000\n",
      "INFO:tensorflow:Sample: 30100\n",
      "INFO:tensorflow:Sample: 30200\n",
      "INFO:tensorflow:Sample: 30300\n",
      "INFO:tensorflow:Sample: 30400\n",
      "INFO:tensorflow:Sample: 30500\n",
      "INFO:tensorflow:Sample: 30600\n",
      "INFO:tensorflow:Sample: 30700\n",
      "INFO:tensorflow:Sample: 30800\n",
      "INFO:tensorflow:Sample: 30900\n",
      "INFO:tensorflow:Sample: 31000\n",
      "INFO:tensorflow:Sample: 31100\n",
      "INFO:tensorflow:Sample: 31200\n",
      "INFO:tensorflow:Sample: 31300\n",
      "INFO:tensorflow:Sample: 31400\n",
      "INFO:tensorflow:Sample: 31500\n",
      "INFO:tensorflow:Sample: 31600\n",
      "INFO:tensorflow:Sample: 31700\n",
      "INFO:tensorflow:Saving: /content/recon_395058__mustardplug__breakbeat-hiphop-a4-4bar-96bpm.wav\n",
      "INFO:tensorflow:Saving: /content/recon_159119__cms4f__flute-play-c-04.wav\n",
      "INFO:tensorflow:Saving: /content/recon_255878__jagadamba__female-voice-whispering-lab-geaks.wav\n",
      "INFO:tensorflow:Saving: /content/recon_60055__juskiddink__cello-loop-2.wav\n",
      "INFO:tensorflow:Saving: /content/recon_418526__audeption__fasching-fanfare-karnevals-tusch-tataa-long.wav\n",
      "INFO:tensorflow:Saving: /content/interp_395058__mustardplug__breakbeat-hiphop-a4-4bar-96bpm_X_159119__cms4f__flute-play-c-04.wav\n",
      "INFO:tensorflow:Saving: /content/interp_395058__mustardplug__breakbeat-hiphop-a4-4bar-96bpm_X_255878__jagadamba__female-voice-whispering-lab-geaks.wav\n",
      "INFO:tensorflow:Saving: /content/interp_395058__mustardplug__breakbeat-hiphop-a4-4bar-96bpm_X_60055__juskiddink__cello-loop-2.wav\n",
      "INFO:tensorflow:Saving: /content/interp_395058__mustardplug__breakbeat-hiphop-a4-4bar-96bpm_X_418526__audeption__fasching-fanfare-karnevals-tusch-tataa-long.wav\n",
      "INFO:tensorflow:Saving: /content/interp_159119__cms4f__flute-play-c-04_X_255878__jagadamba__female-voice-whispering-lab-geaks.wav\n",
      "INFO:tensorflow:Saving: /content/interp_159119__cms4f__flute-play-c-04_X_60055__juskiddink__cello-loop-2.wav\n",
      "INFO:tensorflow:Saving: /content/interp_159119__cms4f__flute-play-c-04_X_418526__audeption__fasching-fanfare-karnevals-tusch-tataa-long.wav\n",
      "INFO:tensorflow:Saving: /content/interp_255878__jagadamba__female-voice-whispering-lab-geaks_X_60055__juskiddink__cello-loop-2.wav\n",
      "INFO:tensorflow:Saving: /content/interp_255878__jagadamba__female-voice-whispering-lab-geaks_X_418526__audeption__fasching-fanfare-karnevals-tusch-tataa-long.wav\n",
      "INFO:tensorflow:Saving: /content/interp_60055__juskiddink__cello-loop-2_X_418526__audeption__fasching-fanfare-karnevals-tusch-tataa-long.wav\n"
     ]
    }
   ],
   "source": [
    "#@title Synthesize Interpolations\n",
    "print('Total Iterations to Complete: %d\\n' % SAMPLE_LENGTH)\n",
    "\n",
    "encodings = np.array(z_list)\n",
    "save_paths = ['/content/' + name + '.wav' for name in name_list]\n",
    "fastgen.synthesize(encodings,\n",
    "                   save_paths=save_paths,\n",
    "                   checkpoint_path=ckpt_path,\n",
    "                   samples_per_save=int(SAMPLE_LENGTH / 10))"
   ]
  },
  {
   "cell_type": "markdown",
   "metadata": {},
   "source": [
    "### 2. 合成した音をダウンロードする"
   ]
  },
  {
   "cell_type": "code",
   "execution_count": null,
   "metadata": {
    "colab": {},
    "colab_type": "code",
    "id": "QlosBW0IBzAQ",
    "outputId": "35e18320-be3e-41dc-db94-94cd27f8590a"
   },
   "outputs": [
    {
     "name": "stdout",
     "output_type": "stream",
     "text": [
      "Downloading: recon_395058__mustardplug__breakbeat-hiphop-a4-4bar-96bpm.wav\n",
      "Downloading: recon_159119__cms4f__flute-play-c-04.wav\n",
      "Downloading: recon_255878__jagadamba__female-voice-whispering-lab-geaks.wav\n",
      "Downloading: recon_60055__juskiddink__cello-loop-2.wav\n",
      "Downloading: recon_418526__audeption__fasching-fanfare-karnevals-tusch-tataa-long.wav\n",
      "Downloading: interp_395058__mustardplug__breakbeat-hiphop-a4-4bar-96bpm_X_159119__cms4f__flute-play-c-04.wav\n",
      "Downloading: interp_395058__mustardplug__breakbeat-hiphop-a4-4bar-96bpm_X_255878__jagadamba__female-voice-whispering-lab-geaks.wav\n",
      "Downloading: interp_395058__mustardplug__breakbeat-hiphop-a4-4bar-96bpm_X_60055__juskiddink__cello-loop-2.wav\n",
      "Downloading: interp_395058__mustardplug__breakbeat-hiphop-a4-4bar-96bpm_X_418526__audeption__fasching-fanfare-karnevals-tusch-tataa-long.wav\n",
      "Downloading: interp_159119__cms4f__flute-play-c-04_X_255878__jagadamba__female-voice-whispering-lab-geaks.wav\n",
      "Downloading: interp_159119__cms4f__flute-play-c-04_X_60055__juskiddink__cello-loop-2.wav\n",
      "Downloading: interp_159119__cms4f__flute-play-c-04_X_418526__audeption__fasching-fanfare-karnevals-tusch-tataa-long.wav\n",
      "Downloading: interp_255878__jagadamba__female-voice-whispering-lab-geaks_X_60055__juskiddink__cello-loop-2.wav\n",
      "Downloading: interp_255878__jagadamba__female-voice-whispering-lab-geaks_X_418526__audeption__fasching-fanfare-karnevals-tusch-tataa-long.wav\n",
      "Downloading: interp_60055__juskiddink__cello-loop-2_X_418526__audeption__fasching-fanfare-karnevals-tusch-tataa-long.wav\n"
     ]
    }
   ],
   "source": [
    "#@title Download Interpolations\n",
    "for fname in save_paths:\n",
    "  print('Downloading: %s' % fname.split('/')[-1])\n",
    "  download(fname)"
   ]
  },
  {
   "cell_type": "markdown",
   "metadata": {},
   "source": [
    "### 3. 合成した音を聴いてみる"
   ]
  },
  {
   "cell_type": "code",
   "execution_count": null,
   "metadata": {
    "colab": {},
    "colab_type": "code",
    "id": "sSUtQ2fvBzAS",
    "outputId": "e68eb09d-fc58-40c5-892f-b75c3af066f5"
   },
   "outputs": [
    {
     "name": "stdout",
     "output_type": "stream",
     "text": [
      "Originals:\n",
      "\n",
      "395058__mustardplug__breakbeat-hiphop-a4-4bar-96bpm\n"
     ]
    },
    {
     "data": {
      "text/html": [
       "<div id=\"id_156\"> </div>"
      ],
      "text/plain": [
       "<IPython.core.display.HTML object>"
      ]
     },
     "metadata": {
      "tags": []
     },
     "output_type": "display_data"
    },
    {
     "name": "stdout",
     "output_type": "stream",
     "text": [
      "159119__cms4f__flute-play-c-04\n"
     ]
    },
    {
     "data": {
      "text/html": [
       "<div id=\"id_157\"> </div>"
      ],
      "text/plain": [
       "<IPython.core.display.HTML object>"
      ]
     },
     "metadata": {
      "tags": []
     },
     "output_type": "display_data"
    },
    {
     "name": "stdout",
     "output_type": "stream",
     "text": [
      "255878__jagadamba__female-voice-whispering-lab-geaks\n"
     ]
    },
    {
     "data": {
      "text/html": [
       "<div id=\"id_158\"> </div>"
      ],
      "text/plain": [
       "<IPython.core.display.HTML object>"
      ]
     },
     "metadata": {
      "tags": []
     },
     "output_type": "display_data"
    },
    {
     "name": "stdout",
     "output_type": "stream",
     "text": [
      "60055__juskiddink__cello-loop-2\n"
     ]
    },
    {
     "data": {
      "text/html": [
       "<div id=\"id_159\"> </div>"
      ],
      "text/plain": [
       "<IPython.core.display.HTML object>"
      ]
     },
     "metadata": {
      "tags": []
     },
     "output_type": "display_data"
    },
    {
     "name": "stdout",
     "output_type": "stream",
     "text": [
      "418526__audeption__fasching-fanfare-karnevals-tusch-tataa-long\n"
     ]
    },
    {
     "data": {
      "text/html": [
       "<div id=\"id_160\"> </div>"
      ],
      "text/plain": [
       "<IPython.core.display.HTML object>"
      ]
     },
     "metadata": {
      "tags": []
     },
     "output_type": "display_data"
    },
    {
     "name": "stdout",
     "output_type": "stream",
     "text": [
      "Reconstructions:\n",
      "\n",
      "recon_395058__mustardplug__breakbeat-hiphop-a4-4bar-96bpm\n"
     ]
    },
    {
     "data": {
      "text/html": [
       "<div id=\"id_161\"> </div>"
      ],
      "text/plain": [
       "<IPython.core.display.HTML object>"
      ]
     },
     "metadata": {
      "tags": []
     },
     "output_type": "display_data"
    },
    {
     "name": "stdout",
     "output_type": "stream",
     "text": [
      "recon_159119__cms4f__flute-play-c-04\n"
     ]
    },
    {
     "data": {
      "text/html": [
       "<div id=\"id_162\"> </div>"
      ],
      "text/plain": [
       "<IPython.core.display.HTML object>"
      ]
     },
     "metadata": {
      "tags": []
     },
     "output_type": "display_data"
    },
    {
     "name": "stdout",
     "output_type": "stream",
     "text": [
      "recon_255878__jagadamba__female-voice-whispering-lab-geaks\n"
     ]
    },
    {
     "data": {
      "text/html": [
       "<div id=\"id_163\"> </div>"
      ],
      "text/plain": [
       "<IPython.core.display.HTML object>"
      ]
     },
     "metadata": {
      "tags": []
     },
     "output_type": "display_data"
    },
    {
     "name": "stdout",
     "output_type": "stream",
     "text": [
      "recon_60055__juskiddink__cello-loop-2\n"
     ]
    },
    {
     "data": {
      "text/html": [
       "<div id=\"id_164\"> </div>"
      ],
      "text/plain": [
       "<IPython.core.display.HTML object>"
      ]
     },
     "metadata": {
      "tags": []
     },
     "output_type": "display_data"
    },
    {
     "name": "stdout",
     "output_type": "stream",
     "text": [
      "recon_418526__audeption__fasching-fanfare-karnevals-tusch-tataa-long\n"
     ]
    },
    {
     "data": {
      "text/html": [
       "<div id=\"id_165\"> </div>"
      ],
      "text/plain": [
       "<IPython.core.display.HTML object>"
      ]
     },
     "metadata": {
      "tags": []
     },
     "output_type": "display_data"
    },
    {
     "name": "stdout",
     "output_type": "stream",
     "text": [
      "Interpolations:\n",
      "\n",
      "interp_395058__mustardplug__breakbeat-hiphop-a4-4bar-96bpm_X_159119__cms4f__flute-play-c-04\n"
     ]
    },
    {
     "data": {
      "text/html": [
       "<div id=\"id_166\"> </div>"
      ],
      "text/plain": [
       "<IPython.core.display.HTML object>"
      ]
     },
     "metadata": {
      "tags": []
     },
     "output_type": "display_data"
    },
    {
     "name": "stdout",
     "output_type": "stream",
     "text": [
      "interp_395058__mustardplug__breakbeat-hiphop-a4-4bar-96bpm_X_255878__jagadamba__female-voice-whispering-lab-geaks\n"
     ]
    },
    {
     "data": {
      "text/html": [
       "<div id=\"id_167\"> </div>"
      ],
      "text/plain": [
       "<IPython.core.display.HTML object>"
      ]
     },
     "metadata": {
      "tags": []
     },
     "output_type": "display_data"
    },
    {
     "name": "stdout",
     "output_type": "stream",
     "text": [
      "interp_395058__mustardplug__breakbeat-hiphop-a4-4bar-96bpm_X_60055__juskiddink__cello-loop-2\n"
     ]
    },
    {
     "data": {
      "text/html": [
       "<div id=\"id_168\"> </div>"
      ],
      "text/plain": [
       "<IPython.core.display.HTML object>"
      ]
     },
     "metadata": {
      "tags": []
     },
     "output_type": "display_data"
    },
    {
     "name": "stdout",
     "output_type": "stream",
     "text": [
      "interp_395058__mustardplug__breakbeat-hiphop-a4-4bar-96bpm_X_418526__audeption__fasching-fanfare-karnevals-tusch-tataa-long\n"
     ]
    },
    {
     "data": {
      "text/html": [
       "<div id=\"id_169\"> </div>"
      ],
      "text/plain": [
       "<IPython.core.display.HTML object>"
      ]
     },
     "metadata": {
      "tags": []
     },
     "output_type": "display_data"
    },
    {
     "name": "stdout",
     "output_type": "stream",
     "text": [
      "interp_159119__cms4f__flute-play-c-04_X_255878__jagadamba__female-voice-whispering-lab-geaks\n"
     ]
    },
    {
     "data": {
      "text/html": [
       "<div id=\"id_170\"> </div>"
      ],
      "text/plain": [
       "<IPython.core.display.HTML object>"
      ]
     },
     "metadata": {
      "tags": []
     },
     "output_type": "display_data"
    },
    {
     "name": "stdout",
     "output_type": "stream",
     "text": [
      "interp_159119__cms4f__flute-play-c-04_X_60055__juskiddink__cello-loop-2\n"
     ]
    },
    {
     "data": {
      "text/html": [
       "<div id=\"id_171\"> </div>"
      ],
      "text/plain": [
       "<IPython.core.display.HTML object>"
      ]
     },
     "metadata": {
      "tags": []
     },
     "output_type": "display_data"
    },
    {
     "name": "stdout",
     "output_type": "stream",
     "text": [
      "interp_159119__cms4f__flute-play-c-04_X_418526__audeption__fasching-fanfare-karnevals-tusch-tataa-long\n"
     ]
    },
    {
     "data": {
      "text/html": [
       "<div id=\"id_172\"> </div>"
      ],
      "text/plain": [
       "<IPython.core.display.HTML object>"
      ]
     },
     "metadata": {
      "tags": []
     },
     "output_type": "display_data"
    },
    {
     "name": "stdout",
     "output_type": "stream",
     "text": [
      "interp_255878__jagadamba__female-voice-whispering-lab-geaks_X_60055__juskiddink__cello-loop-2\n"
     ]
    },
    {
     "data": {
      "text/html": [
       "<div id=\"id_173\"> </div>"
      ],
      "text/plain": [
       "<IPython.core.display.HTML object>"
      ]
     },
     "metadata": {
      "tags": []
     },
     "output_type": "display_data"
    },
    {
     "name": "stdout",
     "output_type": "stream",
     "text": [
      "interp_255878__jagadamba__female-voice-whispering-lab-geaks_X_418526__audeption__fasching-fanfare-karnevals-tusch-tataa-long\n"
     ]
    },
    {
     "data": {
      "text/html": [
       "<div id=\"id_174\"> </div>"
      ],
      "text/plain": [
       "<IPython.core.display.HTML object>"
      ]
     },
     "metadata": {
      "tags": []
     },
     "output_type": "display_data"
    },
    {
     "name": "stdout",
     "output_type": "stream",
     "text": [
      "interp_60055__juskiddink__cello-loop-2_X_418526__audeption__fasching-fanfare-karnevals-tusch-tataa-long\n"
     ]
    },
    {
     "data": {
      "text/html": [
       "<div id=\"id_175\"> </div>"
      ],
      "text/plain": [
       "<IPython.core.display.HTML object>"
      ]
     },
     "metadata": {
      "tags": []
     },
     "output_type": "display_data"
    }
   ],
   "source": [
    "#@title Listen to the outputs\n",
    "\n",
    "print(\"Originals:\\n\")\n",
    "for fname in file_list:\n",
    "  synth_audio = utils.load_audio(fname,\n",
    "                                 sample_length=SAMPLE_LENGTH,\n",
    "                                 sr=SR)\n",
    "  print(get_name(fname))\n",
    "  play(synth_audio, sample_rate=SR)\n",
    "\n",
    "for i, fname in enumerate(save_paths):\n",
    "  if i == 0:\n",
    "    print(\"Reconstructions:\\n\")\n",
    "  if i == len(file_list):\n",
    "    print(\"Interpolations:\\n\")\n",
    "  synth_audio = utils.load_audio(fname,\n",
    "                                 sample_length=SAMPLE_LENGTH,\n",
    "                                 sr=SR)\n",
    "  print(get_name(fname))\n",
    "  play(synth_audio, sample_rate=SR)"
   ]
  }
 ],
 "metadata": {
  "colab": {
   "collapsed_sections": [],
   "name": "E-Z NSynthでまだ聴いたことのない楽器の音を作る",
   "provenance": [],
   "version": "0.3.2"
  },
  "kernelspec": {
   "display_name": "Python 2",
   "language": "python",
   "name": "python2"
  },
  "accelerator": "GPU"
 },
 "nbformat": 4,
 "nbformat_minor": 2
}